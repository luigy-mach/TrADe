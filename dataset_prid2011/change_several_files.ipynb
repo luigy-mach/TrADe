{
 "cells": [
  {
   "cell_type": "code",
   "execution_count": 242,
   "id": "630a90be",
   "metadata": {},
   "outputs": [],
   "source": [
    "import os\n",
    "import fnmatch\n",
    "import numpy as np\n",
    "import pandas as pd\n",
    "import fnmatch as fn\n",
    "import shutil"
   ]
  },
  {
   "cell_type": "code",
   "execution_count": 25,
   "id": "6e2b77f2",
   "metadata": {},
   "outputs": [],
   "source": [
    "def create_dir(path):\n",
    "    try:\n",
    "        os.makedirs(path, exist_ok=True)\n",
    "        # print('{} created successfully'.format(path))\n",
    "        return path\n",
    "    except:\n",
    "        print('{} cant be created')\n",
    "    return None\n",
    "\n"
   ]
  },
  {
   "cell_type": "code",
   "execution_count": 26,
   "id": "1d0ea2f1",
   "metadata": {},
   "outputs": [],
   "source": [
    "\n",
    "def find_files(path_main, pattern, type='separate'):\n",
    "    list_return = list()\n",
    "    for dirpath, dirs, files in os.walk(path_main):\n",
    "        for fname in fnmatch.filter(files, pattern):\n",
    "            list_return.append((dirpath,fname))\n",
    "\n",
    "    if len(list_return)==0:\n",
    "        print(\"error, not found files.\")\n",
    "        return None\n",
    "\n",
    "    if type == 'separate':\n",
    "        list_return = np.asarray(list_return)\n",
    "        df          = pd.DataFrame(list_return, columns = ['path','file'])\n",
    "        df          = df.sort_values(by=['path'], ascending=True)\n",
    "        return df.to_numpy()\n",
    "\n",
    "    if type == 'absolute':\n",
    "        new_list = list()\n",
    "        for i,j in list_return:\n",
    "            new_list.append(os.path.join(i,j))\n",
    "        new_list = sorted(new_list )\n",
    "        return np.asarray(new_list)\n",
    "    else:\n",
    "        print('error, you need choise type: [separate,absolute]')\n",
    "        return None"
   ]
  },
  {
   "cell_type": "code",
   "execution_count": 91,
   "id": "acc8a2f9",
   "metadata": {},
   "outputs": [],
   "source": [
    "\n",
    "\n",
    "def find_dirs(path_main, pattern, type='separate'):\n",
    "    list_return = list()\n",
    "    for dirpath, dirs, files in os.walk(path_main):\n",
    "        for dname in fnmatch.filter(dirs, pattern):\n",
    "            list_return.append((dirpath,dname))\n",
    "    if type == 'separate':\n",
    "        list_return = np.asarray(list_return)\n",
    "        df          = pd.DataFrame(list_return, columns = ['path','dir'])\n",
    "        # df            = df.sort_values(by=['path'], ascending=True)\n",
    "        return df.to_numpy()\n",
    "\n",
    "    if type == 'absolute':\n",
    "        new_list = list()\n",
    "        for i,j in list_return:\n",
    "            new_list.append(os.path.join(i,j))\n",
    "        # new_list = sorted(new_list )\n",
    "        return np.asarray(new_list)\n",
    "    else:\n",
    "        print('error, you need choise type: [separate,absolute]')\n",
    "        return None\n"
   ]
  },
  {
   "cell_type": "code",
   "execution_count": 35,
   "id": "61b8e729",
   "metadata": {},
   "outputs": [],
   "source": [
    "# pattern = 'frameStart_*_video_cam_*.avi'\n",
    "pattern = 'tau_frameStart_*.avi'"
   ]
  },
  {
   "cell_type": "code",
   "execution_count": null,
   "id": "b5833ad7",
   "metadata": {},
   "outputs": [],
   "source": []
  },
  {
   "cell_type": "code",
   "execution_count": 85,
   "id": "76262b9c",
   "metadata": {},
   "outputs": [],
   "source": [
    "jj=[1,5,10,20,40,80]"
   ]
  },
  {
   "cell_type": "code",
   "execution_count": 87,
   "id": "b01f3304",
   "metadata": {},
   "outputs": [],
   "source": [
    "# for j in jj:\n",
    "#     tt = find_files (\"test/1_yolov3_SiamlDL_every_{}_frames\".format(j),pattern)\n",
    "#     for i in tt:\n",
    "#         new_dir  = \"max_tracklet_{}_{}\".format(j,i[1])\n",
    "#         new_path = os.path.join(i[0], new_dir)\n",
    "#         create_dir(new_path)"
   ]
  },
  {
   "cell_type": "code",
   "execution_count": null,
   "id": "7031c7bc",
   "metadata": {},
   "outputs": [],
   "source": []
  },
  {
   "cell_type": "code",
   "execution_count": 243,
   "id": "a7198f7b",
   "metadata": {},
   "outputs": [],
   "source": [
    "def my_filter2(datalist, exclude):\n",
    "    list_return = list()\n",
    "    for val in datalist:\n",
    "        flag = True\n",
    "        for ex in exclude:\n",
    "            flag = flag and not fn.fnmatch(val, ex)\n",
    "        if flag:\n",
    "            list_return.append(val)\n",
    "                \n",
    "    return list_return"
   ]
  },
  {
   "cell_type": "code",
   "execution_count": null,
   "id": "b09c560d",
   "metadata": {},
   "outputs": [],
   "source": []
  },
  {
   "cell_type": "code",
   "execution_count": 259,
   "id": "f4d81d88",
   "metadata": {},
   "outputs": [],
   "source": [
    "exclude = ['max_tracklet_*_tau_frameStart_*.avi',  'gts_tau_*.csv', 'tau_frameStart_*.avi']"
   ]
  },
  {
   "cell_type": "code",
   "execution_count": 260,
   "id": "ee29224f",
   "metadata": {},
   "outputs": [],
   "source": [
    "path_main = './test'"
   ]
  },
  {
   "cell_type": "code",
   "execution_count": 261,
   "id": "ea807a80",
   "metadata": {},
   "outputs": [
    {
     "data": {
      "text/plain": [
       "array([['./test/1_yolov3_SiamlDL_every_40_frames/A-B/A-B_000004/tau_01000/seq_00001',\n",
       "        'max_tracklet_40_tau_frameStart_00001000.avi'],\n",
       "       ['./test/1_yolov3_SiamlDL_every_40_frames/A-B/A-B_000004/tau_01000/seq_00002',\n",
       "        'max_tracklet_40_tau_frameStart_00002000.avi'],\n",
       "       ['./test/1_yolov3_SiamlDL_every_40_frames/A-B/A-B_000004/tau_01000/seq_00000',\n",
       "        'max_tracklet_40_tau_frameStart_00000000.avi'],\n",
       "       ...,\n",
       "       ['./test/1_yolov3_SiamlDL_every_5_frames/B-A/B-A_000007/tau_01000/seq_00001',\n",
       "        'max_tracklet_5_tau_frameStart_00001000.avi'],\n",
       "       ['./test/1_yolov3_SiamlDL_every_5_frames/B-A/B-A_000007/tau_01000/seq_00002',\n",
       "        'max_tracklet_5_tau_frameStart_00002000.avi'],\n",
       "       ['./test/1_yolov3_SiamlDL_every_5_frames/B-A/B-A_000007/tau_01000/seq_00000',\n",
       "        'max_tracklet_5_tau_frameStart_00000000.avi']], dtype=object)"
      ]
     },
     "execution_count": 261,
     "metadata": {},
     "output_type": "execute_result"
    }
   ],
   "source": [
    "gg = find_dirs(path_main, 'max_tracklet_*')\n",
    "gg"
   ]
  },
  {
   "cell_type": "code",
   "execution_count": null,
   "id": "3dfef2eb",
   "metadata": {},
   "outputs": [],
   "source": []
  },
  {
   "cell_type": "code",
   "execution_count": 262,
   "id": "77ba5e6a",
   "metadata": {},
   "outputs": [],
   "source": [
    "for pp, obj_dir in gg:\n",
    "    for i_dir in my_filter2(os.listdir(pp), exclude):\n",
    "        src  = os.path.join(pp, i_dir)\n",
    "        dest = os.path.join(pp,obj_dir)\n",
    "#         print(src, dest)\n",
    "        shutil.move(src, dest) \n",
    "        "
   ]
  },
  {
   "cell_type": "code",
   "execution_count": null,
   "id": "ef44cf56",
   "metadata": {},
   "outputs": [],
   "source": []
  },
  {
   "cell_type": "code",
   "execution_count": 356,
   "id": "e3c1502a",
   "metadata": {},
   "outputs": [],
   "source": [
    "path_test = \"test/1_Skip_Bot\"\n",
    "# path_test = \"test/1_Skip_SiamlDL\""
   ]
  },
  {
   "cell_type": "code",
   "execution_count": 357,
   "id": "0fd336c3",
   "metadata": {},
   "outputs": [],
   "source": [
    "rex1 = \"outcome_*_person_*_dataframe.csv\""
   ]
  },
  {
   "cell_type": "code",
   "execution_count": 358,
   "id": "91caaf40",
   "metadata": {},
   "outputs": [],
   "source": [
    "rex2 = \"resultGUI_*_person_*_seqVideo_*.csv\""
   ]
  },
  {
   "cell_type": "code",
   "execution_count": 359,
   "id": "02db41e9",
   "metadata": {},
   "outputs": [],
   "source": [
    "rex3 = \"time_executingtau_frameStart_*.avi.csv\""
   ]
  },
  {
   "cell_type": "code",
   "execution_count": 360,
   "id": "f176619d",
   "metadata": {},
   "outputs": [
    {
     "name": "stdout",
     "output_type": "stream",
     "text": [
      "error, not found files.\n"
     ]
    }
   ],
   "source": [
    "hh1 = find_files(path_test,rex1)"
   ]
  },
  {
   "cell_type": "code",
   "execution_count": 361,
   "id": "7b89a4c3",
   "metadata": {},
   "outputs": [
    {
     "name": "stdout",
     "output_type": "stream",
     "text": [
      "error, not found files.\n"
     ]
    }
   ],
   "source": [
    "hh2 = find_files(path_test,rex2)"
   ]
  },
  {
   "cell_type": "code",
   "execution_count": 362,
   "id": "5676414f",
   "metadata": {},
   "outputs": [],
   "source": [
    "hh3 = find_files(path_test,rex3)"
   ]
  },
  {
   "cell_type": "code",
   "execution_count": 354,
   "id": "7303f71e",
   "metadata": {},
   "outputs": [
    {
     "ename": "TypeError",
     "evalue": "object of type 'NoneType' has no len()",
     "output_type": "error",
     "traceback": [
      "\u001b[0;31m---------------------------------------------------------------------------\u001b[0m",
      "\u001b[0;31mTypeError\u001b[0m                                 Traceback (most recent call last)",
      "\u001b[0;32m/tmp/ipykernel_12/1310027814.py\u001b[0m in \u001b[0;36m<module>\u001b[0;34m\u001b[0m\n\u001b[0;32m----> 1\u001b[0;31m \u001b[0mprint\u001b[0m\u001b[0;34m(\u001b[0m\u001b[0mlen\u001b[0m\u001b[0;34m(\u001b[0m\u001b[0mhh1\u001b[0m\u001b[0;34m)\u001b[0m\u001b[0;34m)\u001b[0m\u001b[0;34m\u001b[0m\u001b[0;34m\u001b[0m\u001b[0m\n\u001b[0m\u001b[1;32m      2\u001b[0m \u001b[0mprint\u001b[0m\u001b[0;34m(\u001b[0m\u001b[0mlen\u001b[0m\u001b[0;34m(\u001b[0m\u001b[0mhh2\u001b[0m\u001b[0;34m)\u001b[0m\u001b[0;34m)\u001b[0m\u001b[0;34m\u001b[0m\u001b[0;34m\u001b[0m\u001b[0m\n",
      "\u001b[0;31mTypeError\u001b[0m: object of type 'NoneType' has no len()"
     ]
    }
   ],
   "source": [
    "print(len(hh1))\n",
    "print(len(hh2))\n"
   ]
  },
  {
   "cell_type": "code",
   "execution_count": 339,
   "id": "e8536f1e",
   "metadata": {},
   "outputs": [],
   "source": [
    "# for i,j in zip(hh1,hh2):\n",
    "#     if i[0]==j[0]:\n",
    "#         print(i)\n",
    "#     else:\n",
    "#         print(\"error\")\n",
    "#         print(i)\n",
    "#         print(\"----\")\n",
    "#         print(j)\n",
    "#         break"
   ]
  },
  {
   "cell_type": "code",
   "execution_count": null,
   "id": "5ae9aa44",
   "metadata": {},
   "outputs": [],
   "source": []
  },
  {
   "cell_type": "code",
   "execution_count": 363,
   "id": "8fe5a06f",
   "metadata": {},
   "outputs": [],
   "source": [
    "for p,n in hh3:\n",
    "    new_n = 'BoT_{}'.format(n)\n",
    "    src = os.path.join(p,n)\n",
    "    dst = os.path.join(p,new_n)\n",
    "    dest = shutil.move(src, dst) \n"
   ]
  },
  {
   "cell_type": "code",
   "execution_count": null,
   "id": "dfeecb0c",
   "metadata": {},
   "outputs": [],
   "source": []
  },
  {
   "cell_type": "code",
   "execution_count": null,
   "id": "e19b9a16",
   "metadata": {},
   "outputs": [],
   "source": []
  },
  {
   "cell_type": "code",
   "execution_count": null,
   "id": "43940518",
   "metadata": {},
   "outputs": [],
   "source": []
  },
  {
   "cell_type": "code",
   "execution_count": null,
   "id": "c5a7ab0d",
   "metadata": {},
   "outputs": [],
   "source": []
  },
  {
   "cell_type": "code",
   "execution_count": null,
   "id": "ca828fd8",
   "metadata": {},
   "outputs": [],
   "source": []
  }
 ],
 "metadata": {
  "kernelspec": {
   "display_name": "Python 3 (ipykernel)",
   "language": "python",
   "name": "python3"
  },
  "language_info": {
   "codemirror_mode": {
    "name": "ipython",
    "version": 3
   },
   "file_extension": ".py",
   "mimetype": "text/x-python",
   "name": "python",
   "nbconvert_exporter": "python",
   "pygments_lexer": "ipython3",
   "version": "3.7.12"
  }
 },
 "nbformat": 4,
 "nbformat_minor": 5
}
