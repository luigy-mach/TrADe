{
 "cells": [
  {
   "cell_type": "code",
   "execution_count": 1,
   "metadata": {},
   "outputs": [],
   "source": [
    "import numpy  as np\n",
    "import pandas as pd\n",
    "import fnmatch\n",
    "import os\n",
    "import re\n",
    "\n",
    "import numpy  as np\n",
    "import matplotlib.pyplot as plt\n",
    "from os.path import splitext as ossplitext\n"
   ]
  },
  {
   "cell_type": "code",
   "execution_count": 2,
   "metadata": {},
   "outputs": [],
   "source": [
    "def find_files(path_main, pattern, type='separate'):\n",
    "\tlist_return = list()\n",
    "\tfor dirpath, dirs, files in os.walk(path_main):\n",
    "\t\tfor fname in fnmatch.filter(files, pattern):\n",
    "\t\t\tlist_return.append((dirpath,fname))\n",
    "\n",
    "\tif type == 'separate':\n",
    "\t\tlist_return = np.asarray(list_return)\n",
    "\t\tdf \t\t\t= pd.DataFrame(list_return, columns = ['path','file'])\n",
    "\t\tdf \t\t\t= df.sort_values(by=['path'], ascending=True)\n",
    "\t\treturn df.to_numpy()\n",
    "\n",
    "\tif type == 'absolute':\n",
    "\t\tnew_list = list()\n",
    "\t\tfor i,j in list_return:\n",
    "\t\t\tnew_list.append(os.path.join(i,j))\n",
    "\t\tnew_list = sorted(new_list )\n",
    "\t\treturn np.asarray(new_list)\n",
    "\telse:\n",
    "\t\tprint('error, you need choise type: [separate,absolute]')\n",
    "\t\treturn None\n",
    "\n",
    "def find_dirs(path_main, pattern, type='separate'):\n",
    "\tlist_return = list()\n",
    "\tfor dirpath, dirs, files in os.walk(path_main):\n",
    "\t\tfor dname in fnmatch.filter(dirs, pattern):\n",
    "\t\t\tlist_return.append((dirpath,dname))\n",
    "\tif type == 'separate':\n",
    "\t\tlist_return = np.asarray(list_return)\n",
    "\t\tdf \t\t\t= pd.DataFrame(list_return, columns = ['path','dir'])\n",
    "\t\t# df \t\t\t= df.sort_values(by=['path'], ascending=True)\n",
    "\t\treturn df.to_numpy()\n",
    "\n",
    "\tif type == 'absolute':\n",
    "\t\tnew_list = list()\n",
    "\t\tfor i,j in list_return:\n",
    "\t\t\tnew_list.append(os.path.join(i,j))\n",
    "\t\t# new_list = sorted(new_list )\n",
    "\t\treturn np.asarray(new_list)\n",
    "\telse:\n",
    "\t\tprint('error, you need choise type: [separate,absolute]')\n",
    "\t\treturn None\n",
    "\n",
    "def linspace(start, end, step=1.):\n",
    "    assert start<end, \"start need greater than end\"\n",
    "#     epsilon = 0.000001\n",
    "#     result = np.arange(start,end+epsilon,step)\n",
    "    result = np.arange(start,end,step)\n",
    "    result =  np.around(result, decimals=3)\n",
    "    result = list(result)\n",
    "    if result[-1]!=end:\n",
    "        result.append(end)     \n",
    "    return result\n"
   ]
  },
  {
   "cell_type": "code",
   "execution_count": 3,
   "metadata": {},
   "outputs": [],
   "source": [
    "\n",
    "def build_dataframe(files):\n",
    "    cols = ['queryAbsPath','qId','qIsPesentGT','beta','eta','tau','highSimilarity','qIsIn_eta','type']\n",
    "    main_df = pd.DataFrame(columns=cols)\n",
    "\n",
    "    for i in files:\n",
    "        df = pd.read_csv(i, usecols=cols)\n",
    "        if df.shape[0]>0:\n",
    "            main_df = main_df.append(df, ignore_index=True)\n",
    "    \n",
    "    return main_df"
   ]
  },
  {
   "cell_type": "code",
   "execution_count": 4,
   "metadata": {},
   "outputs": [],
   "source": [
    "\n",
    "def build_outcome_dataframe(files):\n",
    "#     cols = ['imgAbsPath','cosine_similarity']\n",
    "    cols = ['imgAbsPath_origin','imgAbsPath_current','cosine_similarity']\n",
    "    main_df = pd.DataFrame(columns=cols)\n",
    "\n",
    "    for i in files:\n",
    "        df = pd.read_csv(i, usecols=cols)\n",
    "        if df.shape[0]>0:\n",
    "            main_df = main_df.append(df, ignore_index=True)\n",
    "    return main_df"
   ]
  },
  {
   "cell_type": "code",
   "execution_count": 5,
   "metadata": {},
   "outputs": [],
   "source": [
    "def create_dir(path):\n",
    "    try:\n",
    "        os.makedirs(path, exist_ok=True)\n",
    "        # print('{} created successfully'.format(path))\n",
    "        return path\n",
    "    except:\n",
    "        print('{} cant be created')\n",
    "    return None"
   ]
  },
  {
   "cell_type": "code",
   "execution_count": 6,
   "metadata": {},
   "outputs": [
    {
     "data": {
      "text/plain": [
       "(0, 3)"
      ]
     },
     "execution_count": 6,
     "metadata": {},
     "output_type": "execute_result"
    }
   ],
   "source": [
    "xcols    = ['imgAbsPath_origin','imgAbsPath_current','cosine_similarity']\n",
    "xmain_df = pd.DataFrame(columns=xcols)\n",
    "xmain_df.shape"
   ]
  },
  {
   "cell_type": "code",
   "execution_count": null,
   "metadata": {},
   "outputs": [],
   "source": []
  },
  {
   "cell_type": "code",
   "execution_count": null,
   "metadata": {},
   "outputs": [],
   "source": []
  },
  {
   "cell_type": "markdown",
   "metadata": {},
   "source": [
    "# PATHs"
   ]
  },
  {
   "cell_type": "code",
   "execution_count": 7,
   "metadata": {},
   "outputs": [],
   "source": [
    "path_main   = './../dataset_prid2011/1_Skip'\n"
   ]
  },
  {
   "cell_type": "code",
   "execution_count": 8,
   "metadata": {},
   "outputs": [],
   "source": [
    "path_save   = './results/1_Skip'"
   ]
  },
  {
   "cell_type": "code",
   "execution_count": 9,
   "metadata": {},
   "outputs": [
    {
     "data": {
      "text/plain": [
       "'./results/1_Skip'"
      ]
     },
     "execution_count": 9,
     "metadata": {},
     "output_type": "execute_result"
    }
   ],
   "source": [
    "create_dir(path_save)"
   ]
  },
  {
   "cell_type": "code",
   "execution_count": 10,
   "metadata": {},
   "outputs": [],
   "source": [
    "def gather_outcome_dataframes(path_main, path_save, prefix_reid, max_tracklet, thisCam=False, otherCam=True):\n",
    "#     if thisCam:\n",
    "#         dirs_outcomes = find_dirs(path_main, 'max_tracklet_{}_tau_frameStart_*'.format(max_tracklet), type='absolute')\n",
    "#         list_tmp      = list()\n",
    "#         for dirs in dirs_outcomes:\n",
    "#             tmp_outcomefilesThisCam = find_files(str(dirs), '{}_outcome_thisCam_person_*_dataframe.csv'.format(prefix_reid), type='absolute')\n",
    "#             for j in tmp_outcomefilesThisCam:\n",
    "#                 list_tmp.append(j)\n",
    "#         outcomefilesThisCam = np.asarray(list_tmp)\n",
    "#         df_outcome_ThisCam  = build_outcome_dataframe(outcomefilesThisCam)\n",
    "#         new_path_save        = create_dir(os.path.join(path_save, 'Skip_max_tracklet_{}'.format(max_tracklet)))\n",
    "#         df_outcome_ThisCam.to_csv(os.path.join(new_path_save,'Skip_df_outcomes_thisCam_{}.csv'.format(prefix_reid)), index=False, header=True)\n",
    "    \n",
    "    if otherCam:\n",
    "        dirs_outcomes = find_dirs(path_main, 'max_tracklet_{}_tau_frameStart_*'.format(max_tracklet), type='absolute')\n",
    "        list_tmp      = list()\n",
    "\n",
    "        for dirs in dirs_outcomes:\n",
    "            tmp_outcomefilesOtherCam = find_files(str(dirs), '{}_outcome_otherCam_person_*_dataframe.csv'.format(prefix_reid), type='absolute')\n",
    "            for j in tmp_outcomefilesOtherCam:\n",
    "                list_tmp.append(j)\n",
    "\n",
    "        outcomefilesOtherCam = np.asarray(list_tmp)\n",
    "        df_outcome_otherCam  = build_outcome_dataframe(outcomefilesOtherCam)\n",
    "        new_path_save        = create_dir(os.path.join(path_save, 'Skip_max-tracklet-{}'.format(max_tracklet)))\n",
    "        df_outcome_otherCam.to_csv(os.path.join(new_path_save,'Skip_{}_gather-df-outcomes_otherCam.csv'.format(prefix_reid)), index=False, header=True)"
   ]
  },
  {
   "cell_type": "markdown",
   "metadata": {},
   "source": [
    "# READ  and GATHER of Outcomes Re-id."
   ]
  },
  {
   "cell_type": "code",
   "execution_count": 11,
   "metadata": {},
   "outputs": [],
   "source": [
    "prefix_reid = 'SiamIDL'"
   ]
  },
  {
   "cell_type": "code",
   "execution_count": 12,
   "metadata": {},
   "outputs": [],
   "source": [
    "max_tracklets = [1,5,10,20,40,80]\n",
    "for i in max_tracklets:\n",
    "    gather_outcome_dataframes(path_main, path_save, prefix_reid, i)\n"
   ]
  },
  {
   "cell_type": "code",
   "execution_count": null,
   "metadata": {},
   "outputs": [],
   "source": []
  },
  {
   "cell_type": "code",
   "execution_count": 13,
   "metadata": {},
   "outputs": [],
   "source": [
    "prefix_reid = 'BoT'"
   ]
  },
  {
   "cell_type": "code",
   "execution_count": 14,
   "metadata": {},
   "outputs": [],
   "source": [
    "max_tracklets = [1,5,10,20,40,80]\n",
    "for i in max_tracklets:\n",
    "    gather_outcome_dataframes(path_main, path_save, prefix_reid, i)\n"
   ]
  },
  {
   "cell_type": "code",
   "execution_count": null,
   "metadata": {},
   "outputs": [],
   "source": []
  },
  {
   "cell_type": "markdown",
   "metadata": {},
   "source": [
    "# READ and GATHER of resultGUI"
   ]
  },
  {
   "cell_type": "code",
   "execution_count": 15,
   "metadata": {},
   "outputs": [],
   "source": [
    "def gather_resultsGUI(path_main, path_save, prefix_reid, max_tracklet, thisCam=False, otherCam=True):\n",
    "#     if thisCam:\n",
    "#         dirs_outcomes = find_dirs(path_main, 'max_tracklet_{}_tau_frameStart_*'.format(max_tracklet), type='absolute')\n",
    "#         list_tmp      = list()\n",
    "#         for dirs in dirs_outcomes:\n",
    "#             tmp_filesThisCam = find_files(str(dirs), '{}_resultGUI_thisCam_person_*_seqVideo_*.csv'.format(prefix_reid), type='absolute')\n",
    "#             for j in tmp_filesThisCam:\n",
    "#                 list_tmp.append(j)\n",
    "#         outcomefilesThisCam = np.asarray(list_tmp)\n",
    "#         df_ThisCam          = build_dataframe(outcomefilesThisCam)\n",
    "#         new_path_save        = create_dir(os.path.join(path_save, 'Skip_max-tracklet_{}'.format(max_tracklet)))\n",
    "#         df_ThisCam.to_csv(os.path.join(new_path_save,'Skip_{}_df_resultGUI_thisCam.csv'.format(prefix_reid)), index=False, header=True)\n",
    "    \n",
    "    if otherCam:\n",
    "        dirs_outcomes = find_dirs(path_main, 'max_tracklet_{}_tau_frameStart_*'.format(max_tracklet), type='absolute')\n",
    "        list_tmp      = list()\n",
    "        for dirs in dirs_outcomes:\n",
    "            tmp_filesOtherCam = find_files(str(dirs), '{}_resultGUI_otherCam_person_*_seqVideo_*.csv'.format(prefix_reid), type='absolute')\n",
    "            for j in tmp_filesOtherCam:\n",
    "                list_tmp.append(j)\n",
    "        outcomefilesOtherCam = np.asarray(list_tmp)\n",
    "        df_otherCam          = build_dataframe(outcomefilesOtherCam)\n",
    "        new_path_save        = create_dir(os.path.join(path_save, 'Skip_max-tracklet-{}'.format(max_tracklet)))\n",
    "        df_otherCam.to_csv(os.path.join(new_path_save,'Skip_{}_gather-df-resultGUI_otherCam.csv'.format(prefix_reid)), index=False, header=True)"
   ]
  },
  {
   "cell_type": "code",
   "execution_count": 16,
   "metadata": {},
   "outputs": [],
   "source": [
    "prefix_reid = 'SiamIDL'"
   ]
  },
  {
   "cell_type": "code",
   "execution_count": 17,
   "metadata": {},
   "outputs": [],
   "source": [
    "max_tracklets = [1,5,10,20,40,80]\n",
    "for i in max_tracklets:\n",
    "    gather_resultsGUI(path_main, path_save, prefix_reid, i)\n"
   ]
  },
  {
   "cell_type": "code",
   "execution_count": null,
   "metadata": {},
   "outputs": [],
   "source": []
  },
  {
   "cell_type": "code",
   "execution_count": 18,
   "metadata": {},
   "outputs": [],
   "source": [
    "prefix_reid = 'BoT'"
   ]
  },
  {
   "cell_type": "code",
   "execution_count": 19,
   "metadata": {},
   "outputs": [],
   "source": [
    "max_tracklets = [1,5,10,20,40,80]\n",
    "for i in max_tracklets:\n",
    "    gather_resultsGUI(path_main, path_save, prefix_reid, i)\n"
   ]
  },
  {
   "cell_type": "code",
   "execution_count": null,
   "metadata": {},
   "outputs": [],
   "source": []
  },
  {
   "cell_type": "code",
   "execution_count": null,
   "metadata": {},
   "outputs": [],
   "source": []
  }
 ],
 "metadata": {
  "kernelspec": {
   "display_name": "Python 3 (ipykernel)",
   "language": "python",
   "name": "python3"
  },
  "language_info": {
   "codemirror_mode": {
    "name": "ipython",
    "version": 3
   },
   "file_extension": ".py",
   "mimetype": "text/x-python",
   "name": "python",
   "nbconvert_exporter": "python",
   "pygments_lexer": "ipython3",
   "version": "3.7.12"
  }
 },
 "nbformat": 4,
 "nbformat_minor": 4
}
