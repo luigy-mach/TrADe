{
 "cells": [
  {
   "cell_type": "code",
   "execution_count": 5,
   "metadata": {},
   "outputs": [],
   "source": [
    "import numpy  as np\n",
    "import pandas as pd\n",
    "import fnmatch\n",
    "import os\n",
    "import re\n",
    "\n",
    "import numpy  as np\n",
    "\n",
    "from os.path import splitext as ossplitext\n",
    "import matplotlib.pyplot as plt\n"
   ]
  },
  {
   "cell_type": "code",
   "execution_count": 6,
   "metadata": {},
   "outputs": [],
   "source": [
    "def find_files(path_main, pattern, type='separate'):\n",
    "\n",
    "    list_return = list()\n",
    "    for dirpath, dirs, files in os.walk(path_main):\n",
    "        for fname in fnmatch.filter(files, pattern):\n",
    "            list_return.append((dirpath,fname))\n",
    "\n",
    "    if type == 'separate':\n",
    "        list_return = np.asarray(list_return)\n",
    "        df \t\t\t= pd.DataFrame(list_return, columns = ['path','file'])\n",
    "        df \t\t\t= df.sort_values(by=['path'], ascending=True)\n",
    "        return df.to_numpy()\n",
    "\n",
    "    if type == 'absolute':\n",
    "        new_list = list()\n",
    "        for i,j in list_return:\n",
    "            new_list.append(os.path.join(i,j))\n",
    "        new_list = sorted(new_list )\n",
    "        return np.asarray(new_list)\n",
    "    else:\n",
    "        print('error, you need choise type: [separate,absolute]')\n",
    "        return None"
   ]
  },
  {
   "cell_type": "code",
   "execution_count": 7,
   "metadata": {},
   "outputs": [],
   "source": [
    "def build_dataframe(files):\n",
    "    cols = ['queryAbsPath','qId','qIsPesentGT','beta','eta','tau','highSimilarity','qIsIn_eta','type']\n",
    "    main_df = pd.DataFrame(columns=cols)\n",
    "\n",
    "    for i in files:\n",
    "        df = pd.read_csv(i, usecols=cols)\n",
    "        if df.shape[0]>0:\n",
    "            main_df = main_df.append(df, ignore_index=True)\n",
    "    \n",
    "    return main_df"
   ]
  },
  {
   "cell_type": "code",
   "execution_count": 8,
   "metadata": {},
   "outputs": [],
   "source": [
    "def build_outcome_dataframe(files):\n",
    "#     cols = ['imgAbsPath','cosine_similarity']\n",
    "    cols = ['imgAbsPath_origin','imgAbsPath_current','cosine_similarity']\n",
    "    main_df = pd.DataFrame(columns=cols)\n",
    "\n",
    "    for i in files:\n",
    "        df = pd.read_csv(i, usecols=cols)\n",
    "        if df.shape[0]>0:\n",
    "            main_df = main_df.append(df, ignore_index=True)\n",
    "    return main_df"
   ]
  },
  {
   "cell_type": "code",
   "execution_count": 9,
   "metadata": {},
   "outputs": [],
   "source": [
    "def create_dir(path):\n",
    "    try:\n",
    "        os.makedirs(path, exist_ok=True)\n",
    "        # print('{} created successfully'.format(path))\n",
    "        return path\n",
    "    except:\n",
    "        print('{} cant be created')\n",
    "    return None"
   ]
  },
  {
   "cell_type": "code",
   "execution_count": null,
   "metadata": {},
   "outputs": [],
   "source": []
  },
  {
   "cell_type": "markdown",
   "metadata": {},
   "source": [
    "# PATHs"
   ]
  },
  {
   "cell_type": "code",
   "execution_count": 24,
   "metadata": {},
   "outputs": [],
   "source": [
    "path_skip = './results/1_Skip'"
   ]
  },
  {
   "cell_type": "code",
   "execution_count": 25,
   "metadata": {},
   "outputs": [],
   "source": [
    "path_save_imgs   = os.path.join(path_skip,'imgs_from_csv_skip')"
   ]
  },
  {
   "cell_type": "code",
   "execution_count": 26,
   "metadata": {},
   "outputs": [
    {
     "data": {
      "text/plain": [
       "'./results/1_Skip/imgs_from_csv_skip'"
      ]
     },
     "execution_count": 26,
     "metadata": {},
     "output_type": "execute_result"
    }
   ],
   "source": [
    "create_dir(path_save_imgs)"
   ]
  },
  {
   "cell_type": "code",
   "execution_count": null,
   "metadata": {},
   "outputs": [],
   "source": []
  },
  {
   "cell_type": "code",
   "execution_count": null,
   "metadata": {},
   "outputs": [],
   "source": []
  },
  {
   "cell_type": "markdown",
   "metadata": {},
   "source": [
    "## OPEN outcome dataframe "
   ]
  },
  {
   "cell_type": "code",
   "execution_count": 81,
   "metadata": {},
   "outputs": [],
   "source": [
    "max_tracklets = 80 # [1,5,10,20,40,80]"
   ]
  },
  {
   "cell_type": "code",
   "execution_count": 83,
   "metadata": {},
   "outputs": [
    {
     "name": "stdout",
     "output_type": "stream",
     "text": [
      "./results/1_Skip/Skip_max-tracklet-80\n"
     ]
    }
   ],
   "source": [
    "new_path_skip = os.path.join(path_skip,\"Skip_max-tracklet-{}\".format(max_tracklets))\n",
    "print(new_path_skip)"
   ]
  },
  {
   "cell_type": "code",
   "execution_count": 29,
   "metadata": {},
   "outputs": [],
   "source": [
    "prefix_reid = \"BoT\""
   ]
  },
  {
   "cell_type": "code",
   "execution_count": 33,
   "metadata": {},
   "outputs": [],
   "source": [
    "df_outcome_otherCam_skip_BoT = pd.read_csv(os.path.join(new_path_skip, 'Skip_{}_gather-df-outcomes_otherCam.csv'.format(prefix_reid)))"
   ]
  },
  {
   "cell_type": "code",
   "execution_count": null,
   "metadata": {},
   "outputs": [],
   "source": []
  },
  {
   "cell_type": "code",
   "execution_count": 34,
   "metadata": {},
   "outputs": [],
   "source": [
    "prefix_reid = \"SiamIDL\""
   ]
  },
  {
   "cell_type": "code",
   "execution_count": 37,
   "metadata": {},
   "outputs": [],
   "source": [
    "df_outcome_otherCam_skip_SiamIDL = pd.read_csv(os.path.join(new_path_skip, 'Skip_{}_gather-df-outcomes_otherCam.csv'.format(prefix_reid)))"
   ]
  },
  {
   "cell_type": "code",
   "execution_count": null,
   "metadata": {},
   "outputs": [],
   "source": []
  },
  {
   "cell_type": "code",
   "execution_count": null,
   "metadata": {},
   "outputs": [],
   "source": []
  },
  {
   "cell_type": "code",
   "execution_count": null,
   "metadata": {},
   "outputs": [],
   "source": []
  },
  {
   "cell_type": "code",
   "execution_count": 41,
   "metadata": {},
   "outputs": [],
   "source": [
    "cosine_similarity_otherCam_skip_BoT     = df_outcome_otherCam_skip_BoT['cosine_similarity']\n",
    "cosine_similarity_otherCam_skip_SiamIDL = df_outcome_otherCam_skip_SiamIDL['cosine_similarity']\n"
   ]
  },
  {
   "cell_type": "code",
   "execution_count": 42,
   "metadata": {},
   "outputs": [
    {
     "data": {
      "text/plain": [
       "<matplotlib.legend.Legend at 0x7f299d0aaa90>"
      ]
     },
     "execution_count": 42,
     "metadata": {},
     "output_type": "execute_result"
    },
    {
     "data": {
      "image/png": "[encoded data removed]",
      "text/plain": [
       "<Figure size 640x480 with 1 Axes>"
      ]
     },
     "metadata": {},
     "output_type": "display_data"
    }
   ],
   "source": [
    "hist_df_outcome_otherCam_skip_BoT           = plt.hist(cosine_similarity_otherCam_skip_BoT          , bins='auto',label='skip+BoT')\n",
    "hist_df_outcome_otherCam_skip_SiamIDL       = plt.hist(cosine_similarity_otherCam_skip_SiamIDL      , bins='auto',label='skip+SiamlDL')\n",
    "plt.title(\"Histogram com os valores RE-ID (querys) \")\n",
    "plt.legend()"
   ]
  },
  {
   "cell_type": "code",
   "execution_count": 43,
   "metadata": {},
   "outputs": [
    {
     "data": {
      "text/plain": [
       "<matplotlib.legend.Legend at 0x7f299cfb9510>"
      ]
     },
     "execution_count": 43,
     "metadata": {},
     "output_type": "execute_result"
    },
    {
     "data": {
      "image/png": "[encoded data removed]",
      "text/plain": [
       "<Figure size 640x480 with 1 Axes>"
      ]
     },
     "metadata": {},
     "output_type": "display_data"
    }
   ],
   "source": [
    "hist_df_outcome_otherCam_skip_Bot     = plt.hist(cosine_similarity_otherCam_skip_BoT    , density=True, bins='auto',label='skip+BoT')\n",
    "hist_df_outcome_otherCam_skip_SiamIDL = plt.hist(cosine_similarity_otherCam_skip_SiamIDL, density=True, bins='auto',label='skip+SiamlDL')\n",
    "\n",
    "plt.title(\"Histogram com os valores RE-ID (querys) \")\n",
    "plt.legend()"
   ]
  },
  {
   "cell_type": "code",
   "execution_count": null,
   "metadata": {},
   "outputs": [],
   "source": []
  },
  {
   "cell_type": "code",
   "execution_count": null,
   "metadata": {},
   "outputs": [],
   "source": []
  },
  {
   "cell_type": "markdown",
   "metadata": {},
   "source": [
    "## OPEN resultGUI dataframe"
   ]
  },
  {
   "cell_type": "code",
   "execution_count": 44,
   "metadata": {},
   "outputs": [],
   "source": [
    "import numpy as np\n",
    "import matplotlib.pyplot as plt\n",
    "from matplotlib import rc\n",
    "from matplotlib.legend_handler import HandlerTuple"
   ]
  },
  {
   "cell_type": "code",
   "execution_count": 45,
   "metadata": {},
   "outputs": [],
   "source": [
    "def request_data(df, beta, eta, tau):\n",
    "    cond1 = (df['type']!='TrueSilence') & (df['beta']==beta) & (df['eta']==eta) & (df['tau']==tau)\n",
    "    return df[cond1]"
   ]
  },
  {
   "cell_type": "code",
   "execution_count": null,
   "metadata": {},
   "outputs": [],
   "source": []
  },
  {
   "cell_type": "code",
   "execution_count": 48,
   "metadata": {},
   "outputs": [],
   "source": [
    "prefix_reid = \"BoT\"\n",
    "df_resultGUI_otherCam_skip_BoT     = pd.read_csv(os.path.join(new_path_skip ,'Skip_{}_gather-df-resultGUI_otherCam.csv'.format(prefix_reid)))\n"
   ]
  },
  {
   "cell_type": "code",
   "execution_count": 49,
   "metadata": {},
   "outputs": [],
   "source": [
    "prefix_reid = \"SiamIDL\"\n",
    "df_resultGUI_otherCam_skip_SiamIDL = pd.read_csv(os.path.join(new_path_skip ,'Skip_{}_gather-df-resultGUI_otherCam.csv'.format(prefix_reid)))\n"
   ]
  },
  {
   "cell_type": "code",
   "execution_count": null,
   "metadata": {},
   "outputs": [],
   "source": []
  },
  {
   "cell_type": "code",
   "execution_count": null,
   "metadata": {},
   "outputs": [],
   "source": []
  },
  {
   "cell_type": "code",
   "execution_count": 50,
   "metadata": {
    "scrolled": true
   },
   "outputs": [
    {
     "data": {
      "text/html": [
       "<div>\n",
       "<style scoped>\n",
       "    .dataframe tbody tr th:only-of-type {\n",
       "        vertical-align: middle;\n",
       "    }\n",
       "\n",
       "    .dataframe tbody tr th {\n",
       "        vertical-align: top;\n",
       "    }\n",
       "\n",
       "    .dataframe thead th {\n",
       "        text-align: right;\n",
       "    }\n",
       "</style>\n",
       "<table border=\"1\" class=\"dataframe\">\n",
       "  <thead>\n",
       "    <tr style=\"text-align: right;\">\n",
       "      <th></th>\n",
       "      <th>queryAbsPath</th>\n",
       "      <th>qId</th>\n",
       "      <th>qIsPesentGT</th>\n",
       "      <th>beta</th>\n",
       "      <th>eta</th>\n",
       "      <th>tau</th>\n",
       "      <th>highSimilarity</th>\n",
       "      <th>qIsIn_eta</th>\n",
       "      <th>type</th>\n",
       "    </tr>\n",
       "  </thead>\n",
       "  <tbody>\n",
       "  </tbody>\n",
       "</table>\n",
       "</div>"
      ],
      "text/plain": [
       "Empty DataFrame\n",
       "Columns: [queryAbsPath, qId, qIsPesentGT, beta, eta, tau, highSimilarity, qIsIn_eta, type]\n",
       "Index: []"
      ]
     },
     "execution_count": 50,
     "metadata": {},
     "output_type": "execute_result"
    }
   ],
   "source": [
    "df_resultGUI_otherCam_skip_BoT[df_resultGUI_otherCam_skip_BoT['type']=='errorGUI']"
   ]
  },
  {
   "cell_type": "code",
   "execution_count": 51,
   "metadata": {},
   "outputs": [],
   "source": [
    "hdS1 = df_resultGUI_otherCam_skip_BoT['highSimilarity'].to_numpy()"
   ]
  },
  {
   "cell_type": "code",
   "execution_count": 52,
   "metadata": {},
   "outputs": [
    {
     "data": {
      "text/plain": [
       "Text(0.5, 1.0, 'Histogram: max values of REID(baseline) of each tracklet. ')"
      ]
     },
     "execution_count": 52,
     "metadata": {},
     "output_type": "execute_result"
    },
    {
     "data": {
      "image/png": "[encoded data removed]",
      "text/plain": [
       "<Figure size 640x480 with 1 Axes>"
      ]
     },
     "metadata": {},
     "output_type": "display_data"
    }
   ],
   "source": [
    "_=plt.hist(hdS1, bins='auto')\n",
    "plt.title(\"Histogram: max values of REID(baseline) of each tracklet. \")"
   ]
  },
  {
   "cell_type": "code",
   "execution_count": 53,
   "metadata": {
    "scrolled": true
   },
   "outputs": [
    {
     "data": {
      "text/plain": [
       "{'TrueSilence': 3641,\n",
       " 'FalseSilence': 1975,\n",
       " 'FalseCall': 1959,\n",
       " 'TrueCall': 977,\n",
       " 'TrueMissedCall': 208}"
      ]
     },
     "execution_count": 53,
     "metadata": {},
     "output_type": "execute_result"
    }
   ],
   "source": [
    "dict_type_dfOtherCam = df_resultGUI_otherCam_skip_BoT['type'].value_counts().to_dict()\n",
    "dict_type_dfOtherCam"
   ]
  },
  {
   "cell_type": "code",
   "execution_count": null,
   "metadata": {},
   "outputs": [],
   "source": []
  },
  {
   "cell_type": "code",
   "execution_count": null,
   "metadata": {},
   "outputs": [],
   "source": []
  },
  {
   "cell_type": "markdown",
   "metadata": {},
   "source": [
    "## FR  = TC / (TC + TMC + FS) \n",
    "## TVR = TC / (TC + TMC + FC)"
   ]
  },
  {
   "cell_type": "code",
   "execution_count": 54,
   "metadata": {},
   "outputs": [],
   "source": [
    "def FR(dictTypes):\n",
    "    tc  = dictTypes.get('TrueCall')       if dictTypes.get('TrueCall')       else 0\n",
    "    tmc = dictTypes.get('TrueMissedCall') if dictTypes.get('TrueMissedCall') else 0\n",
    "    fs  = dictTypes.get('FalseSilence')   if dictTypes.get('FalseSilence')   else 0\n",
    "    if tc==0:\n",
    "        return 0\n",
    "    return  tc / (tc + tmc + fs)\n",
    "\n",
    "def TVR(dictTypes):\n",
    "    tc  = dictTypes.get('TrueCall')       if dictTypes.get('TrueCall')       else 0\n",
    "    tmc = dictTypes.get('TrueMissedCall') if dictTypes.get('TrueMissedCall') else 0\n",
    "    fc  = dictTypes.get('FalseCall')      if dictTypes.get('FalseCall')      else 0\n",
    "    if tc==0:\n",
    "        return 0\n",
    "    return  tc / (tc + tmc + fc)"
   ]
  },
  {
   "cell_type": "code",
   "execution_count": 55,
   "metadata": {},
   "outputs": [],
   "source": [
    "def linspace(start, end, step=1.):\n",
    "    assert start<end, \"start need greater than end\"\n",
    "#     epsilon = 0.000001\n",
    "#     result = np.arange(start,end+epsilon,step)\n",
    "    result = np.arange(start,end,step)\n",
    "    result = np.around(result, decimals=3)\n",
    "    result = list(result)\n",
    "    if result[-1]!=end:\n",
    "        result.append(end)     \n",
    "    return result\n"
   ]
  },
  {
   "cell_type": "code",
   "execution_count": 56,
   "metadata": {},
   "outputs": [],
   "source": [
    "def processing_data(df, thrs_list, eta, tau):\n",
    "#     tau        = 10  # [10,100,1000]\n",
    "#     eta        = 10  #[10,20]\n",
    "#     thrs_list  = [0.5, 0.6, 0.7, 0.8, 0.98]\n",
    "    result_FR  = list() \n",
    "    result_TVR = list() \n",
    "    for thr in thrs_list:\n",
    "        tmp_df   = request_data(df, thr, eta, tau)\n",
    "        tmp_dict = tmp_df['type'].value_counts().to_dict()\n",
    "        result_FR.append(  FR(tmp_dict) )\n",
    "        result_TVR.append( TVR(tmp_dict) )   \n",
    "    return result_FR, result_TVR"
   ]
  },
  {
   "cell_type": "code",
   "execution_count": 57,
   "metadata": {},
   "outputs": [],
   "source": [
    "\n",
    "# rc('mathtext', default='regular')\n",
    "\n",
    "def plot_results(thrs_list, list_tuples, tau, eta, normalizeY=False):\n",
    "    fig = plt.figure(figsize=(12,6))\n",
    "    ax  = fig.add_subplot(111)\n",
    "    ax2 = ax.twinx()\n",
    "\n",
    "    ax.grid()\n",
    "    ax.set_xlabel(r'Threshold ($\\beta_i$)'+ '\\n'+ \n",
    "                  r'Tau ($\\tau='+str(tau)+'$)' + '\\n'+\n",
    "                  r'Eta ($\\eta='+str(eta)+'$)'\n",
    "                 )\n",
    "    \n",
    "    ax.set_ylabel(r'Finding Rate (FR)', color='blue')\n",
    "    ax2.set_ylabel(r'True Validation Rate (TVR)', color='red')\n",
    "    if normalizeY:\n",
    "        ax.set_ylim(0, 1)\n",
    "        ax2.set_ylim(0, 1)\n",
    "\n",
    "    ###############################\n",
    "    lines    = list()\n",
    "    for j, j_point,k ,k_point ,lb , _alpha in list_tuples:\n",
    "        min_size = min( len(thrs_list), len(j), len(k) )\n",
    "        thrs_list= thrs_list[:min_size]\n",
    "        j        = j[:min_size]\n",
    "        k        = k[:min_size]\n",
    "        ln1      = ax.plot(thrs_list, j, j_point, label = lb, alpha=_alpha , markersize = 10)\n",
    "        ln2      = ax2.plot(thrs_list, k, k_point, label = lb , alpha=_alpha, markersize = 10)\n",
    "        lines.append((ln1[0] , ln2[0]))\n",
    "    # added these three lines\n",
    "#     print(lines)\n",
    "#     labels = [(l1.get_label(),l2.get_label()) for l1,l2 in lines]\n",
    "    labels = [l1.get_label() for l1,l2 in lines]\n",
    "    # ax.legend(lns, labs, loc=0)\n",
    "#     print(labels)\n",
    "#     print(len(lines)) \n",
    "    ax.legend(lines, labels,bbox_to_anchor=(0., 1.02, 1., .102), \n",
    "              loc='lower left', \n",
    "              ncol=len(lines), \n",
    "              mode=\"expand\", \n",
    "              borderaxespad=0., \n",
    "              numpoints=1, \n",
    "              handler_map={tuple: HandlerTuple(ndivide=None)})\n",
    "\n",
    "#     plt.show()"
   ]
  },
  {
   "cell_type": "code",
   "execution_count": 58,
   "metadata": {},
   "outputs": [],
   "source": [
    "def CalculateAveragePrecision(rec, prec):\n",
    "    mrec = []\n",
    "    mrec.append(0)\n",
    "    [mrec.append(e) for e in rec]\n",
    "    mrec.append(1)\n",
    "    mpre = []\n",
    "    mpre.append(0)\n",
    "    [mpre.append(e) for e in prec]\n",
    "    mpre.append(0)\n",
    "    for i in range(len(mpre) - 1, 0, -1):\n",
    "        mpre[i - 1] = max(mpre[i - 1], mpre[i])\n",
    "    ii = []\n",
    "    for i in range(len(mrec) - 1):\n",
    "        if mrec[1+i] != mrec[i]:\n",
    "            ii.append(i + 1)\n",
    "    ap = 0\n",
    "    for i in ii:\n",
    "        ap = ap + np.sum((mrec[i] - mrec[i - 1]) * mpre[i])\n",
    "    # return [ap, mpre[1:len(mpre)-1], mrec[1:len(mpre)-1], ii]\n",
    "    return [ap, mpre[0:len(mpre) - 1], mrec[0:len(mpre) - 1], ii]"
   ]
  },
  {
   "cell_type": "code",
   "execution_count": null,
   "metadata": {},
   "outputs": [],
   "source": []
  },
  {
   "cell_type": "code",
   "execution_count": 59,
   "metadata": {},
   "outputs": [],
   "source": [
    "# thrs_list = linspace(start=0.2, end=0.98, step=0.02) \n",
    "thrs_list = linspace(start=0.2, end=0.62, step=0.02) \n",
    "# ETA = top rank (ex: 10, 20,30)"
   ]
  },
  {
   "cell_type": "code",
   "execution_count": 60,
   "metadata": {},
   "outputs": [],
   "source": [
    "FR_eta_20_tau_1000_skip_BoT,     TVR_eta_20_tau_1000_skip_BoT     = processing_data(df_resultGUI_otherCam_skip_BoT          , thrs_list , eta=20, tau=1000 )\n",
    "FR_eta_20_tau_1000_skip_SiamIDL, TVR_eta_20_tau_1000_skip_SiamIDL = processing_data(df_resultGUI_otherCam_skip_SiamIDL      , thrs_list , eta=20, tau=1000 )\n"
   ]
  },
  {
   "cell_type": "code",
   "execution_count": 61,
   "metadata": {},
   "outputs": [
    {
     "data": {
      "image/png": "[encoded data removed]",
      "text/plain": [
       "<Figure size 1200x600 with 2 Axes>"
      ]
     },
     "metadata": {},
     "output_type": "display_data"
    }
   ],
   "source": [
    "lines =[( FR_eta_20_tau_1000_skip_BoT     ,'*b-' ,TVR_eta_20_tau_1000_skip_BoT     , '*r-', r'skip+BoT' , 0.3 ) ,\n",
    "        ( FR_eta_20_tau_1000_skip_SiamIDL ,'>b-' ,TVR_eta_20_tau_1000_skip_SiamIDL , '>r-', r'skip+SiamlDL' , 0.3),]\n",
    "\n",
    "plot_results(thrs_list, lines, tau=1000, eta=20, normalizeY=False)"
   ]
  },
  {
   "cell_type": "code",
   "execution_count": null,
   "metadata": {},
   "outputs": [],
   "source": []
  },
  {
   "cell_type": "code",
   "execution_count": 62,
   "metadata": {},
   "outputs": [],
   "source": [
    "list_dfs = [df_resultGUI_otherCam_skip_BoT,\n",
    "            df_resultGUI_otherCam_skip_SiamIDL, \n",
    "           ]"
   ]
  },
  {
   "cell_type": "code",
   "execution_count": 63,
   "metadata": {},
   "outputs": [
    {
     "name": "stdout",
     "output_type": "stream",
     "text": [
      "(2,)\n",
      "(2, 1)\n"
     ]
    }
   ],
   "source": [
    "import pandas\n",
    "import numpy\n",
    "from itertools import product\n",
    "\n",
    "\n",
    "ap_results = list()\n",
    "tau        = [1000]\n",
    "\n",
    "for _tau in tau:\n",
    "    eta   = [20]\n",
    "    cols1 = ['AP']\n",
    "    cols2 = ['$\\eta$={}'.format(eta[0]),\n",
    "            ]\n",
    "    tmp   = list(range(len(cols1)*len(cols2)))\n",
    "    df    = pandas.DataFrame(columns=tmp)\n",
    "\n",
    "    df.columns = pandas.MultiIndex.from_tuples(list(product( cols1, cols2)))\n",
    "    df.insert(loc=0, column=('$\\tau$ = {}'.format(_tau), 'Method'), value=['Skip+BoT','Skip+SiamlDL',])\n",
    "    # df.style.set_properties(**{'text-align': 'center'})\n",
    "\n",
    "    iterate  = list(product(list_dfs, eta))\n",
    "    list_tmp = list()\n",
    "#     print(iterate)\n",
    "    for _df, _eta in  iterate:\n",
    "        _recall, _precision  = processing_data(_df, thrs_list , eta=_eta, tau=_tau )\n",
    "        _recall, _precision  = _recall[::-1], _precision[::-1]\n",
    "        [ap, mpre, mrec, ii] = CalculateAveragePrecision(_recall, _precision)\n",
    "        list_tmp.append(ap)\n",
    "\n",
    "    list_tmp = np.asarray(list_tmp)\n",
    "    \n",
    "    print(list_tmp.shape)\n",
    "    list_tmp = list_tmp.reshape(2,1)\n",
    "    print(list_tmp.shape)\n",
    "    df.iloc[:,1:5] = list_tmp\n",
    "    ap_results.append(df)"
   ]
  },
  {
   "cell_type": "code",
   "execution_count": 64,
   "metadata": {},
   "outputs": [
    {
     "data": {
      "text/html": [
       "<div>\n",
       "<style scoped>\n",
       "    .dataframe tbody tr th:only-of-type {\n",
       "        vertical-align: middle;\n",
       "    }\n",
       "\n",
       "    .dataframe tbody tr th {\n",
       "        vertical-align: top;\n",
       "    }\n",
       "\n",
       "    .dataframe thead tr th {\n",
       "        text-align: left;\n",
       "    }\n",
       "</style>\n",
       "<table border=\"1\" class=\"dataframe\">\n",
       "  <thead>\n",
       "    <tr>\n",
       "      <th></th>\n",
       "      <th>$\\tau$ = 1000</th>\n",
       "      <th>AP</th>\n",
       "    </tr>\n",
       "    <tr>\n",
       "      <th></th>\n",
       "      <th>Method</th>\n",
       "      <th>$\\eta$=20</th>\n",
       "    </tr>\n",
       "  </thead>\n",
       "  <tbody>\n",
       "    <tr>\n",
       "      <th>0</th>\n",
       "      <td>Skip+BoT</td>\n",
       "      <td>0.289924</td>\n",
       "    </tr>\n",
       "    <tr>\n",
       "      <th>1</th>\n",
       "      <td>Skip+SiamlDL</td>\n",
       "      <td>0.292837</td>\n",
       "    </tr>\n",
       "  </tbody>\n",
       "</table>\n",
       "</div>"
      ],
      "text/plain": [
       "  $\\tau$ = 1000        AP\n",
       "         Method $\\eta$=20\n",
       "0      Skip+BoT  0.289924\n",
       "1  Skip+SiamlDL  0.292837"
      ]
     },
     "execution_count": 64,
     "metadata": {},
     "output_type": "execute_result"
    }
   ],
   "source": [
    "ap_results[0]"
   ]
  },
  {
   "cell_type": "code",
   "execution_count": null,
   "metadata": {},
   "outputs": [],
   "source": []
  },
  {
   "cell_type": "code",
   "execution_count": null,
   "metadata": {},
   "outputs": [],
   "source": []
  },
  {
   "cell_type": "code",
   "execution_count": 67,
   "metadata": {},
   "outputs": [
    {
     "data": {
      "text/plain": [
       "0.2899242705666878"
      ]
     },
     "execution_count": 67,
     "metadata": {},
     "output_type": "execute_result"
    }
   ],
   "source": [
    "recall,precision = FR_eta_20_tau_1000_skip_BoT, TVR_eta_20_tau_1000_skip_BoT\n",
    "recall,precision = recall[::-1], precision[::-1]\n",
    "[ap, mpre, mrec, ii] = CalculateAveragePrecision(recall,precision)\n",
    "ap\n"
   ]
  },
  {
   "cell_type": "code",
   "execution_count": 68,
   "metadata": {},
   "outputs": [
    {
     "data": {
      "text/plain": [
       "0.29283654254513286"
      ]
     },
     "execution_count": 68,
     "metadata": {},
     "output_type": "execute_result"
    }
   ],
   "source": [
    "recall,precision = FR_eta_20_tau_1000_skip_SiamIDL, TVR_eta_20_tau_1000_skip_SiamIDL\n",
    "recall,precision = recall[::-1], precision[::-1]\n",
    "[ap, mpre, mrec, ii] = CalculateAveragePrecision(recall,precision)\n",
    "ap\n"
   ]
  },
  {
   "cell_type": "code",
   "execution_count": null,
   "metadata": {},
   "outputs": [],
   "source": []
  },
  {
   "cell_type": "code",
   "execution_count": 90,
   "metadata": {},
   "outputs": [],
   "source": [
    "import pandas\n",
    "import numpy\n",
    "from itertools import product\n",
    "\n",
    "def AP_calculate(list_dfs):\n",
    "    ap_results = list()\n",
    "    tau        = [1000]\n",
    "\n",
    "    for _tau in tau:\n",
    "        eta   = [20]\n",
    "        cols1 = ['AP']\n",
    "        cols2 = ['$\\eta$={}'.format(eta[0]),\n",
    "                ]\n",
    "        tmp   = list(range(len(cols1)*len(cols2)))\n",
    "        df    = pandas.DataFrame(columns=tmp)\n",
    "\n",
    "        df.columns = pandas.MultiIndex.from_tuples(list(product( cols1, cols2)))\n",
    "        df.insert(loc=0, column=('$\\tau$ = {}'.format(_tau), 'Method'), value=['Skip+BoT','Skip+SiamlDL',])\n",
    "        # df.style.set_properties(**{'text-align': 'center'})\n",
    "\n",
    "        iterate  = list(product(list_dfs, eta))\n",
    "        list_tmp = list()\n",
    "    #     print(iterate)\n",
    "        for _df, _eta in  iterate:\n",
    "            _recall, _precision  = processing_data(_df, thrs_list , eta=_eta, tau=_tau )\n",
    "            _recall, _precision  = _recall[::-1], _precision[::-1]\n",
    "            [ap, mpre, mrec, ii] = CalculateAveragePrecision(_recall, _precision)\n",
    "            list_tmp.append(ap)\n",
    "\n",
    "        list_tmp = np.asarray(list_tmp)\n",
    "\n",
    "#         print(list_tmp.shape)\n",
    "        list_tmp = list_tmp.reshape(2,1)\n",
    "#         print(list_tmp.shape)\n",
    "        df.iloc[:,1:5] = list_tmp\n",
    "        ap_results.append(df)\n",
    "        return ap_results[0]"
   ]
  },
  {
   "cell_type": "code",
   "execution_count": 91,
   "metadata": {},
   "outputs": [
    {
     "data": {
      "text/html": [
       "<div>\n",
       "<style scoped>\n",
       "    .dataframe tbody tr th:only-of-type {\n",
       "        vertical-align: middle;\n",
       "    }\n",
       "\n",
       "    .dataframe tbody tr th {\n",
       "        vertical-align: top;\n",
       "    }\n",
       "\n",
       "    .dataframe thead tr th {\n",
       "        text-align: left;\n",
       "    }\n",
       "</style>\n",
       "<table border=\"1\" class=\"dataframe\">\n",
       "  <thead>\n",
       "    <tr>\n",
       "      <th></th>\n",
       "      <th>$\\tau$ = 1000</th>\n",
       "      <th>AP</th>\n",
       "    </tr>\n",
       "    <tr>\n",
       "      <th></th>\n",
       "      <th>Method</th>\n",
       "      <th>$\\eta$=20</th>\n",
       "    </tr>\n",
       "  </thead>\n",
       "  <tbody>\n",
       "    <tr>\n",
       "      <th>0</th>\n",
       "      <td>Skip+BoT</td>\n",
       "      <td>0.289924</td>\n",
       "    </tr>\n",
       "    <tr>\n",
       "      <th>1</th>\n",
       "      <td>Skip+SiamlDL</td>\n",
       "      <td>0.292837</td>\n",
       "    </tr>\n",
       "  </tbody>\n",
       "</table>\n",
       "</div>"
      ],
      "text/plain": [
       "  $\\tau$ = 1000        AP\n",
       "         Method $\\eta$=20\n",
       "0      Skip+BoT  0.289924\n",
       "1  Skip+SiamlDL  0.292837"
      ]
     },
     "execution_count": 91,
     "metadata": {},
     "output_type": "execute_result"
    }
   ],
   "source": [
    "AP_calculate(list_dfs)"
   ]
  },
  {
   "cell_type": "code",
   "execution_count": null,
   "metadata": {},
   "outputs": [],
   "source": []
  },
  {
   "cell_type": "code",
   "execution_count": null,
   "metadata": {},
   "outputs": [],
   "source": []
  },
  {
   "cell_type": "code",
   "execution_count": null,
   "metadata": {},
   "outputs": [],
   "source": []
  },
  {
   "cell_type": "markdown",
   "metadata": {},
   "source": [
    "# F-score"
   ]
  },
  {
   "cell_type": "markdown",
   "metadata": {},
   "source": [
    "Fγ = (1 + γ^2) * (FR * TVR) / ((γ^2 * FR) + TVR)"
   ]
  },
  {
   "cell_type": "code",
   "execution_count": 121,
   "metadata": {},
   "outputs": [],
   "source": [
    "def FScore(_FR, _TVR, gamma=1):\n",
    "    numerator   = (1 + gamma**2) * (_FR * _TVR)\n",
    "    denominator = ((gamma**2 * _FR) + _TVR)\n",
    "    if denominator == 0:\n",
    "        fs = 0\n",
    "    else:\n",
    "        fs = numerator / denominator\n",
    "    return fs"
   ]
  },
  {
   "cell_type": "code",
   "execution_count": 122,
   "metadata": {},
   "outputs": [],
   "source": [
    "def processing_data2(df, thrs_list, eta, tau):\n",
    "#     tau        = 10  # [10,100,1000]\n",
    "#     eta        = 10  #[10,20]\n",
    "#     thrs_list  = [0.5, 0.6, 0.7, 0.8, 0.98]\n",
    "    result_FR  = list() \n",
    "    result_TVR = list() \n",
    "    for thr in thrs_list:\n",
    "        tmp_df   = request_data(df, thr, eta, tau)\n",
    "        tmp_dict = tmp_df['type'].value_counts().to_dict()\n",
    "        result_FR.append(  FR(tmp_dict) )\n",
    "        result_TVR.append( TVR(tmp_dict) )   \n",
    "    return result_FR, result_TVR"
   ]
  },
  {
   "cell_type": "code",
   "execution_count": null,
   "metadata": {},
   "outputs": [],
   "source": []
  },
  {
   "cell_type": "code",
   "execution_count": 123,
   "metadata": {},
   "outputs": [
    {
     "name": "stdout",
     "output_type": "stream",
     "text": [
      "(2, 3)\n"
     ]
    }
   ],
   "source": [
    "import pandas\n",
    "import numpy\n",
    "from itertools import product\n",
    "\n",
    "\n",
    "fscore_results = list()\n",
    "tau          = [1000 ]\n",
    "\n",
    "for _tau in tau:\n",
    "    eta     = [20]\n",
    "    cols1   = ['$F_{\\gamma=0.5}$ Score', '$F_{\\gamma=1.0}$ Score', '$F_{\\gamma=2.0}$ Score']\n",
    "    gammas  = [0.5, 1, 2]\n",
    "    cols2   = ['$\\eta$={}'.format(eta[0]),\n",
    "              ]\n",
    "    tmp = list(range(len(eta)*len(gammas)))\n",
    "    df  = pandas.DataFrame(columns=tmp)\n",
    "\n",
    "    df.columns = pandas.MultiIndex.from_tuples(list(product(cols1, cols2)))\n",
    "    df.insert(loc=0, column=('$\\tau$ = {}'.format(_tau), 'Method'), value=['Skip+BoT','Skip+SiamlDL'])\n",
    "    # df.style.set_properties(**{'text-align': 'center'})\n",
    "\n",
    "    iterate  = list(product(list_dfs, gammas, eta))\n",
    "\n",
    "    list_tmp = list()\n",
    "#     print(iterate)\n",
    "    for _df, _gamma, _eta in  iterate:\n",
    "#         print( _gamma, _eta)\n",
    "        FR_list, TVR_list  = processing_data2(_df, thrs_list , eta=_eta, tau=_tau )\n",
    "        fscores = list()\n",
    "        for _FR, _TVR in zip(FR_list, TVR_list):\n",
    "            fs = FScore(_FR, _TVR, gamma=_gamma)\n",
    "            fscores.append(fs)\n",
    "        fs_max = max(fscores)\n",
    "        list_tmp.append(fs_max)\n",
    "\n",
    "    list_tmp = np.asarray(list_tmp)\n",
    "    list_tmp = list_tmp.reshape(2,3)\n",
    "    print(list_tmp.shape)\n",
    "    df.iloc[:,1:4] = list_tmp\n",
    "    fscore_results.append(df)"
   ]
  },
  {
   "cell_type": "code",
   "execution_count": 124,
   "metadata": {},
   "outputs": [
    {
     "data": {
      "text/html": [
       "<div>\n",
       "<style scoped>\n",
       "    .dataframe tbody tr th:only-of-type {\n",
       "        vertical-align: middle;\n",
       "    }\n",
       "\n",
       "    .dataframe tbody tr th {\n",
       "        vertical-align: top;\n",
       "    }\n",
       "\n",
       "    .dataframe thead tr th {\n",
       "        text-align: left;\n",
       "    }\n",
       "</style>\n",
       "<table border=\"1\" class=\"dataframe\">\n",
       "  <thead>\n",
       "    <tr>\n",
       "      <th></th>\n",
       "      <th>$\\tau$ = 1000</th>\n",
       "      <th>$F_{\\gamma=0.5}$ Score</th>\n",
       "      <th>$F_{\\gamma=1.0}$ Score</th>\n",
       "      <th>$F_{\\gamma=2.0}$ Score</th>\n",
       "    </tr>\n",
       "    <tr>\n",
       "      <th></th>\n",
       "      <th>Method</th>\n",
       "      <th>$\\eta$=20</th>\n",
       "      <th>$\\eta$=20</th>\n",
       "      <th>$\\eta$=20</th>\n",
       "    </tr>\n",
       "  </thead>\n",
       "  <tbody>\n",
       "    <tr>\n",
       "      <th>0</th>\n",
       "      <td>Skip+BoT</td>\n",
       "      <td>0.608108</td>\n",
       "      <td>0.448399</td>\n",
       "      <td>0.390071</td>\n",
       "    </tr>\n",
       "    <tr>\n",
       "      <th>1</th>\n",
       "      <td>Skip+SiamlDL</td>\n",
       "      <td>0.602637</td>\n",
       "      <td>0.437500</td>\n",
       "      <td>0.355781</td>\n",
       "    </tr>\n",
       "  </tbody>\n",
       "</table>\n",
       "</div>"
      ],
      "text/plain": [
       "  $\\tau$ = 1000 $F_{\\gamma=0.5}$ Score $F_{\\gamma=1.0}$ Score  \\\n",
       "         Method              $\\eta$=20              $\\eta$=20   \n",
       "0      Skip+BoT               0.608108               0.448399   \n",
       "1  Skip+SiamlDL               0.602637               0.437500   \n",
       "\n",
       "  $F_{\\gamma=2.0}$ Score  \n",
       "               $\\eta$=20  \n",
       "0               0.390071  \n",
       "1               0.355781  "
      ]
     },
     "execution_count": 124,
     "metadata": {},
     "output_type": "execute_result"
    }
   ],
   "source": [
    "fscore_results[0]"
   ]
  },
  {
   "cell_type": "code",
   "execution_count": null,
   "metadata": {},
   "outputs": [],
   "source": []
  },
  {
   "cell_type": "code",
   "execution_count": null,
   "metadata": {},
   "outputs": [],
   "source": []
  },
  {
   "cell_type": "code",
   "execution_count": 133,
   "metadata": {},
   "outputs": [],
   "source": [
    "import pandas\n",
    "import numpy\n",
    "from itertools import product\n",
    "\n",
    "\n",
    "def FScore_calculate(list_dfs):\n",
    "    \n",
    "    fscore_results = list()\n",
    "    tau          = [1000 ]\n",
    "\n",
    "    for _tau in tau:\n",
    "        eta     = [20]\n",
    "        cols1   = ['$F_{\\gamma=0.5}$ Score', '$F_{\\gamma=1.0}$ Score', '$F_{\\gamma=2.0}$ Score']\n",
    "        gammas  = [0.5, 1, 2]\n",
    "        cols2   = ['$\\eta$={}'.format(eta[0]),\n",
    "                  ]\n",
    "        tmp = list(range(len(eta)*len(gammas)))\n",
    "        df  = pandas.DataFrame(columns=tmp)\n",
    "\n",
    "        df.columns = pandas.MultiIndex.from_tuples(list(product(cols1, cols2)))\n",
    "        df.insert(loc=0, column=('$\\tau$ = {}'.format(_tau), 'Method'), value=['Skip+BoT','Skip+SiamlDL'])\n",
    "        # df.style.set_properties(**{'text-align': 'center'})\n",
    "\n",
    "        iterate  = list(product(list_dfs, gammas, eta))\n",
    "\n",
    "        list_tmp = list()\n",
    "    #     print(iterate)\n",
    "        for _df, _gamma, _eta in  iterate:\n",
    "    #         print( _gamma, _eta)\n",
    "            FR_list, TVR_list  = processing_data2(_df, thrs_list , eta=_eta, tau=_tau )\n",
    "            fscores = list()\n",
    "            for _FR, _TVR in zip(FR_list, TVR_list):\n",
    "                fs = FScore(_FR, _TVR, gamma=_gamma)\n",
    "                fscores.append(fs)\n",
    "            fs_max = max(fscores)\n",
    "            list_tmp.append(fs_max)\n",
    "\n",
    "        list_tmp = np.asarray(list_tmp)\n",
    "        list_tmp = list_tmp.reshape(2,3)\n",
    "#         print(list_tmp.shape)\n",
    "        df.iloc[:,1:4] = list_tmp\n",
    "        fscore_results.append(df)\n",
    "    return fscore_results[0]"
   ]
  },
  {
   "cell_type": "code",
   "execution_count": 134,
   "metadata": {},
   "outputs": [
    {
     "data": {
      "text/html": [
       "<div>\n",
       "<style scoped>\n",
       "    .dataframe tbody tr th:only-of-type {\n",
       "        vertical-align: middle;\n",
       "    }\n",
       "\n",
       "    .dataframe tbody tr th {\n",
       "        vertical-align: top;\n",
       "    }\n",
       "\n",
       "    .dataframe thead tr th {\n",
       "        text-align: left;\n",
       "    }\n",
       "</style>\n",
       "<table border=\"1\" class=\"dataframe\">\n",
       "  <thead>\n",
       "    <tr>\n",
       "      <th></th>\n",
       "      <th>$\\tau$ = 1000</th>\n",
       "      <th>$F_{\\gamma=0.5}$ Score</th>\n",
       "      <th>$F_{\\gamma=1.0}$ Score</th>\n",
       "      <th>$F_{\\gamma=2.0}$ Score</th>\n",
       "    </tr>\n",
       "    <tr>\n",
       "      <th></th>\n",
       "      <th>Method</th>\n",
       "      <th>$\\eta$=20</th>\n",
       "      <th>$\\eta$=20</th>\n",
       "      <th>$\\eta$=20</th>\n",
       "    </tr>\n",
       "  </thead>\n",
       "  <tbody>\n",
       "    <tr>\n",
       "      <th>0</th>\n",
       "      <td>Skip+BoT</td>\n",
       "      <td>0.608108</td>\n",
       "      <td>0.448399</td>\n",
       "      <td>0.390071</td>\n",
       "    </tr>\n",
       "    <tr>\n",
       "      <th>1</th>\n",
       "      <td>Skip+SiamlDL</td>\n",
       "      <td>0.602637</td>\n",
       "      <td>0.437500</td>\n",
       "      <td>0.355781</td>\n",
       "    </tr>\n",
       "  </tbody>\n",
       "</table>\n",
       "</div>"
      ],
      "text/plain": [
       "  $\\tau$ = 1000 $F_{\\gamma=0.5}$ Score $F_{\\gamma=1.0}$ Score  \\\n",
       "         Method              $\\eta$=20              $\\eta$=20   \n",
       "0      Skip+BoT               0.608108               0.448399   \n",
       "1  Skip+SiamlDL               0.602637               0.437500   \n",
       "\n",
       "  $F_{\\gamma=2.0}$ Score  \n",
       "               $\\eta$=20  \n",
       "0               0.390071  \n",
       "1               0.355781  "
      ]
     },
     "execution_count": 134,
     "metadata": {},
     "output_type": "execute_result"
    }
   ],
   "source": [
    "FScore_calculate(list_dfs)"
   ]
  },
  {
   "cell_type": "code",
   "execution_count": null,
   "metadata": {},
   "outputs": [],
   "source": []
  },
  {
   "cell_type": "code",
   "execution_count": null,
   "metadata": {},
   "outputs": [],
   "source": []
  },
  {
   "cell_type": "markdown",
   "metadata": {},
   "source": [
    "# Test for all cases  [1,5,10,20,40,80]\n"
   ]
  },
  {
   "cell_type": "code",
   "execution_count": 143,
   "metadata": {},
   "outputs": [
    {
     "name": "stdout",
     "output_type": "stream",
     "text": [
      "Skip_max-tracklet-1\n",
      "-----------------------------------\n"
     ]
    },
    {
     "data": {
      "text/html": [
       "<div>\n",
       "<style scoped>\n",
       "    .dataframe tbody tr th:only-of-type {\n",
       "        vertical-align: middle;\n",
       "    }\n",
       "\n",
       "    .dataframe tbody tr th {\n",
       "        vertical-align: top;\n",
       "    }\n",
       "\n",
       "    .dataframe thead tr th {\n",
       "        text-align: left;\n",
       "    }\n",
       "</style>\n",
       "<table border=\"1\" class=\"dataframe\">\n",
       "  <thead>\n",
       "    <tr>\n",
       "      <th></th>\n",
       "      <th>$\\tau$ = 1000</th>\n",
       "      <th>AP</th>\n",
       "    </tr>\n",
       "    <tr>\n",
       "      <th></th>\n",
       "      <th>Method</th>\n",
       "      <th>$\\eta$=20</th>\n",
       "    </tr>\n",
       "  </thead>\n",
       "  <tbody>\n",
       "    <tr>\n",
       "      <th>0</th>\n",
       "      <td>Skip+BoT</td>\n",
       "      <td>0.289924</td>\n",
       "    </tr>\n",
       "    <tr>\n",
       "      <th>1</th>\n",
       "      <td>Skip+SiamlDL</td>\n",
       "      <td>0.292837</td>\n",
       "    </tr>\n",
       "  </tbody>\n",
       "</table>\n",
       "</div>"
      ],
      "text/plain": [
       "  $\\tau$ = 1000        AP\n",
       "         Method $\\eta$=20\n",
       "0      Skip+BoT  0.289924\n",
       "1  Skip+SiamlDL  0.292837"
      ]
     },
     "metadata": {},
     "output_type": "display_data"
    },
    {
     "data": {
      "text/html": [
       "<div>\n",
       "<style scoped>\n",
       "    .dataframe tbody tr th:only-of-type {\n",
       "        vertical-align: middle;\n",
       "    }\n",
       "\n",
       "    .dataframe tbody tr th {\n",
       "        vertical-align: top;\n",
       "    }\n",
       "\n",
       "    .dataframe thead tr th {\n",
       "        text-align: left;\n",
       "    }\n",
       "</style>\n",
       "<table border=\"1\" class=\"dataframe\">\n",
       "  <thead>\n",
       "    <tr>\n",
       "      <th></th>\n",
       "      <th>$\\tau$ = 1000</th>\n",
       "      <th>$F_{\\gamma=0.5}$ Score</th>\n",
       "      <th>$F_{\\gamma=1.0}$ Score</th>\n",
       "      <th>$F_{\\gamma=2.0}$ Score</th>\n",
       "    </tr>\n",
       "    <tr>\n",
       "      <th></th>\n",
       "      <th>Method</th>\n",
       "      <th>$\\eta$=20</th>\n",
       "      <th>$\\eta$=20</th>\n",
       "      <th>$\\eta$=20</th>\n",
       "    </tr>\n",
       "  </thead>\n",
       "  <tbody>\n",
       "    <tr>\n",
       "      <th>0</th>\n",
       "      <td>Skip+BoT</td>\n",
       "      <td>0.608108</td>\n",
       "      <td>0.448399</td>\n",
       "      <td>0.390071</td>\n",
       "    </tr>\n",
       "    <tr>\n",
       "      <th>1</th>\n",
       "      <td>Skip+SiamlDL</td>\n",
       "      <td>0.602637</td>\n",
       "      <td>0.437500</td>\n",
       "      <td>0.355781</td>\n",
       "    </tr>\n",
       "  </tbody>\n",
       "</table>\n",
       "</div>"
      ],
      "text/plain": [
       "  $\\tau$ = 1000 $F_{\\gamma=0.5}$ Score $F_{\\gamma=1.0}$ Score  \\\n",
       "         Method              $\\eta$=20              $\\eta$=20   \n",
       "0      Skip+BoT               0.608108               0.448399   \n",
       "1  Skip+SiamlDL               0.602637               0.437500   \n",
       "\n",
       "  $F_{\\gamma=2.0}$ Score  \n",
       "               $\\eta$=20  \n",
       "0               0.390071  \n",
       "1               0.355781  "
      ]
     },
     "metadata": {},
     "output_type": "display_data"
    },
    {
     "name": "stdout",
     "output_type": "stream",
     "text": [
      "Skip_max-tracklet-5\n",
      "-----------------------------------\n"
     ]
    },
    {
     "data": {
      "text/html": [
       "<div>\n",
       "<style scoped>\n",
       "    .dataframe tbody tr th:only-of-type {\n",
       "        vertical-align: middle;\n",
       "    }\n",
       "\n",
       "    .dataframe tbody tr th {\n",
       "        vertical-align: top;\n",
       "    }\n",
       "\n",
       "    .dataframe thead tr th {\n",
       "        text-align: left;\n",
       "    }\n",
       "</style>\n",
       "<table border=\"1\" class=\"dataframe\">\n",
       "  <thead>\n",
       "    <tr>\n",
       "      <th></th>\n",
       "      <th>$\\tau$ = 1000</th>\n",
       "      <th>AP</th>\n",
       "    </tr>\n",
       "    <tr>\n",
       "      <th></th>\n",
       "      <th>Method</th>\n",
       "      <th>$\\eta$=20</th>\n",
       "    </tr>\n",
       "  </thead>\n",
       "  <tbody>\n",
       "    <tr>\n",
       "      <th>0</th>\n",
       "      <td>Skip+BoT</td>\n",
       "      <td>0.289924</td>\n",
       "    </tr>\n",
       "    <tr>\n",
       "      <th>1</th>\n",
       "      <td>Skip+SiamlDL</td>\n",
       "      <td>0.292837</td>\n",
       "    </tr>\n",
       "  </tbody>\n",
       "</table>\n",
       "</div>"
      ],
      "text/plain": [
       "  $\\tau$ = 1000        AP\n",
       "         Method $\\eta$=20\n",
       "0      Skip+BoT  0.289924\n",
       "1  Skip+SiamlDL  0.292837"
      ]
     },
     "metadata": {},
     "output_type": "display_data"
    },
    {
     "data": {
      "text/html": [
       "<div>\n",
       "<style scoped>\n",
       "    .dataframe tbody tr th:only-of-type {\n",
       "        vertical-align: middle;\n",
       "    }\n",
       "\n",
       "    .dataframe tbody tr th {\n",
       "        vertical-align: top;\n",
       "    }\n",
       "\n",
       "    .dataframe thead tr th {\n",
       "        text-align: left;\n",
       "    }\n",
       "</style>\n",
       "<table border=\"1\" class=\"dataframe\">\n",
       "  <thead>\n",
       "    <tr>\n",
       "      <th></th>\n",
       "      <th>$\\tau$ = 1000</th>\n",
       "      <th>$F_{\\gamma=0.5}$ Score</th>\n",
       "      <th>$F_{\\gamma=1.0}$ Score</th>\n",
       "      <th>$F_{\\gamma=2.0}$ Score</th>\n",
       "    </tr>\n",
       "    <tr>\n",
       "      <th></th>\n",
       "      <th>Method</th>\n",
       "      <th>$\\eta$=20</th>\n",
       "      <th>$\\eta$=20</th>\n",
       "      <th>$\\eta$=20</th>\n",
       "    </tr>\n",
       "  </thead>\n",
       "  <tbody>\n",
       "    <tr>\n",
       "      <th>0</th>\n",
       "      <td>Skip+BoT</td>\n",
       "      <td>0.608108</td>\n",
       "      <td>0.448399</td>\n",
       "      <td>0.390071</td>\n",
       "    </tr>\n",
       "    <tr>\n",
       "      <th>1</th>\n",
       "      <td>Skip+SiamlDL</td>\n",
       "      <td>0.602637</td>\n",
       "      <td>0.437500</td>\n",
       "      <td>0.355781</td>\n",
       "    </tr>\n",
       "  </tbody>\n",
       "</table>\n",
       "</div>"
      ],
      "text/plain": [
       "  $\\tau$ = 1000 $F_{\\gamma=0.5}$ Score $F_{\\gamma=1.0}$ Score  \\\n",
       "         Method              $\\eta$=20              $\\eta$=20   \n",
       "0      Skip+BoT               0.608108               0.448399   \n",
       "1  Skip+SiamlDL               0.602637               0.437500   \n",
       "\n",
       "  $F_{\\gamma=2.0}$ Score  \n",
       "               $\\eta$=20  \n",
       "0               0.390071  \n",
       "1               0.355781  "
      ]
     },
     "metadata": {},
     "output_type": "display_data"
    },
    {
     "name": "stdout",
     "output_type": "stream",
     "text": [
      "Skip_max-tracklet-10\n",
      "-----------------------------------\n"
     ]
    },
    {
     "data": {
      "text/html": [
       "<div>\n",
       "<style scoped>\n",
       "    .dataframe tbody tr th:only-of-type {\n",
       "        vertical-align: middle;\n",
       "    }\n",
       "\n",
       "    .dataframe tbody tr th {\n",
       "        vertical-align: top;\n",
       "    }\n",
       "\n",
       "    .dataframe thead tr th {\n",
       "        text-align: left;\n",
       "    }\n",
       "</style>\n",
       "<table border=\"1\" class=\"dataframe\">\n",
       "  <thead>\n",
       "    <tr>\n",
       "      <th></th>\n",
       "      <th>$\\tau$ = 1000</th>\n",
       "      <th>AP</th>\n",
       "    </tr>\n",
       "    <tr>\n",
       "      <th></th>\n",
       "      <th>Method</th>\n",
       "      <th>$\\eta$=20</th>\n",
       "    </tr>\n",
       "  </thead>\n",
       "  <tbody>\n",
       "    <tr>\n",
       "      <th>0</th>\n",
       "      <td>Skip+BoT</td>\n",
       "      <td>0.289924</td>\n",
       "    </tr>\n",
       "    <tr>\n",
       "      <th>1</th>\n",
       "      <td>Skip+SiamlDL</td>\n",
       "      <td>0.292837</td>\n",
       "    </tr>\n",
       "  </tbody>\n",
       "</table>\n",
       "</div>"
      ],
      "text/plain": [
       "  $\\tau$ = 1000        AP\n",
       "         Method $\\eta$=20\n",
       "0      Skip+BoT  0.289924\n",
       "1  Skip+SiamlDL  0.292837"
      ]
     },
     "metadata": {},
     "output_type": "display_data"
    },
    {
     "data": {
      "text/html": [
       "<div>\n",
       "<style scoped>\n",
       "    .dataframe tbody tr th:only-of-type {\n",
       "        vertical-align: middle;\n",
       "    }\n",
       "\n",
       "    .dataframe tbody tr th {\n",
       "        vertical-align: top;\n",
       "    }\n",
       "\n",
       "    .dataframe thead tr th {\n",
       "        text-align: left;\n",
       "    }\n",
       "</style>\n",
       "<table border=\"1\" class=\"dataframe\">\n",
       "  <thead>\n",
       "    <tr>\n",
       "      <th></th>\n",
       "      <th>$\\tau$ = 1000</th>\n",
       "      <th>$F_{\\gamma=0.5}$ Score</th>\n",
       "      <th>$F_{\\gamma=1.0}$ Score</th>\n",
       "      <th>$F_{\\gamma=2.0}$ Score</th>\n",
       "    </tr>\n",
       "    <tr>\n",
       "      <th></th>\n",
       "      <th>Method</th>\n",
       "      <th>$\\eta$=20</th>\n",
       "      <th>$\\eta$=20</th>\n",
       "      <th>$\\eta$=20</th>\n",
       "    </tr>\n",
       "  </thead>\n",
       "  <tbody>\n",
       "    <tr>\n",
       "      <th>0</th>\n",
       "      <td>Skip+BoT</td>\n",
       "      <td>0.608108</td>\n",
       "      <td>0.448399</td>\n",
       "      <td>0.390071</td>\n",
       "    </tr>\n",
       "    <tr>\n",
       "      <th>1</th>\n",
       "      <td>Skip+SiamlDL</td>\n",
       "      <td>0.602637</td>\n",
       "      <td>0.437500</td>\n",
       "      <td>0.355781</td>\n",
       "    </tr>\n",
       "  </tbody>\n",
       "</table>\n",
       "</div>"
      ],
      "text/plain": [
       "  $\\tau$ = 1000 $F_{\\gamma=0.5}$ Score $F_{\\gamma=1.0}$ Score  \\\n",
       "         Method              $\\eta$=20              $\\eta$=20   \n",
       "0      Skip+BoT               0.608108               0.448399   \n",
       "1  Skip+SiamlDL               0.602637               0.437500   \n",
       "\n",
       "  $F_{\\gamma=2.0}$ Score  \n",
       "               $\\eta$=20  \n",
       "0               0.390071  \n",
       "1               0.355781  "
      ]
     },
     "metadata": {},
     "output_type": "display_data"
    },
    {
     "name": "stdout",
     "output_type": "stream",
     "text": [
      "Skip_max-tracklet-20\n",
      "-----------------------------------\n"
     ]
    },
    {
     "data": {
      "text/html": [
       "<div>\n",
       "<style scoped>\n",
       "    .dataframe tbody tr th:only-of-type {\n",
       "        vertical-align: middle;\n",
       "    }\n",
       "\n",
       "    .dataframe tbody tr th {\n",
       "        vertical-align: top;\n",
       "    }\n",
       "\n",
       "    .dataframe thead tr th {\n",
       "        text-align: left;\n",
       "    }\n",
       "</style>\n",
       "<table border=\"1\" class=\"dataframe\">\n",
       "  <thead>\n",
       "    <tr>\n",
       "      <th></th>\n",
       "      <th>$\\tau$ = 1000</th>\n",
       "      <th>AP</th>\n",
       "    </tr>\n",
       "    <tr>\n",
       "      <th></th>\n",
       "      <th>Method</th>\n",
       "      <th>$\\eta$=20</th>\n",
       "    </tr>\n",
       "  </thead>\n",
       "  <tbody>\n",
       "    <tr>\n",
       "      <th>0</th>\n",
       "      <td>Skip+BoT</td>\n",
       "      <td>0.289924</td>\n",
       "    </tr>\n",
       "    <tr>\n",
       "      <th>1</th>\n",
       "      <td>Skip+SiamlDL</td>\n",
       "      <td>0.292837</td>\n",
       "    </tr>\n",
       "  </tbody>\n",
       "</table>\n",
       "</div>"
      ],
      "text/plain": [
       "  $\\tau$ = 1000        AP\n",
       "         Method $\\eta$=20\n",
       "0      Skip+BoT  0.289924\n",
       "1  Skip+SiamlDL  0.292837"
      ]
     },
     "metadata": {},
     "output_type": "display_data"
    },
    {
     "data": {
      "text/html": [
       "<div>\n",
       "<style scoped>\n",
       "    .dataframe tbody tr th:only-of-type {\n",
       "        vertical-align: middle;\n",
       "    }\n",
       "\n",
       "    .dataframe tbody tr th {\n",
       "        vertical-align: top;\n",
       "    }\n",
       "\n",
       "    .dataframe thead tr th {\n",
       "        text-align: left;\n",
       "    }\n",
       "</style>\n",
       "<table border=\"1\" class=\"dataframe\">\n",
       "  <thead>\n",
       "    <tr>\n",
       "      <th></th>\n",
       "      <th>$\\tau$ = 1000</th>\n",
       "      <th>$F_{\\gamma=0.5}$ Score</th>\n",
       "      <th>$F_{\\gamma=1.0}$ Score</th>\n",
       "      <th>$F_{\\gamma=2.0}$ Score</th>\n",
       "    </tr>\n",
       "    <tr>\n",
       "      <th></th>\n",
       "      <th>Method</th>\n",
       "      <th>$\\eta$=20</th>\n",
       "      <th>$\\eta$=20</th>\n",
       "      <th>$\\eta$=20</th>\n",
       "    </tr>\n",
       "  </thead>\n",
       "  <tbody>\n",
       "    <tr>\n",
       "      <th>0</th>\n",
       "      <td>Skip+BoT</td>\n",
       "      <td>0.608108</td>\n",
       "      <td>0.448399</td>\n",
       "      <td>0.390071</td>\n",
       "    </tr>\n",
       "    <tr>\n",
       "      <th>1</th>\n",
       "      <td>Skip+SiamlDL</td>\n",
       "      <td>0.602637</td>\n",
       "      <td>0.437500</td>\n",
       "      <td>0.355781</td>\n",
       "    </tr>\n",
       "  </tbody>\n",
       "</table>\n",
       "</div>"
      ],
      "text/plain": [
       "  $\\tau$ = 1000 $F_{\\gamma=0.5}$ Score $F_{\\gamma=1.0}$ Score  \\\n",
       "         Method              $\\eta$=20              $\\eta$=20   \n",
       "0      Skip+BoT               0.608108               0.448399   \n",
       "1  Skip+SiamlDL               0.602637               0.437500   \n",
       "\n",
       "  $F_{\\gamma=2.0}$ Score  \n",
       "               $\\eta$=20  \n",
       "0               0.390071  \n",
       "1               0.355781  "
      ]
     },
     "metadata": {},
     "output_type": "display_data"
    },
    {
     "name": "stdout",
     "output_type": "stream",
     "text": [
      "Skip_max-tracklet-40\n",
      "-----------------------------------\n"
     ]
    },
    {
     "data": {
      "text/html": [
       "<div>\n",
       "<style scoped>\n",
       "    .dataframe tbody tr th:only-of-type {\n",
       "        vertical-align: middle;\n",
       "    }\n",
       "\n",
       "    .dataframe tbody tr th {\n",
       "        vertical-align: top;\n",
       "    }\n",
       "\n",
       "    .dataframe thead tr th {\n",
       "        text-align: left;\n",
       "    }\n",
       "</style>\n",
       "<table border=\"1\" class=\"dataframe\">\n",
       "  <thead>\n",
       "    <tr>\n",
       "      <th></th>\n",
       "      <th>$\\tau$ = 1000</th>\n",
       "      <th>AP</th>\n",
       "    </tr>\n",
       "    <tr>\n",
       "      <th></th>\n",
       "      <th>Method</th>\n",
       "      <th>$\\eta$=20</th>\n",
       "    </tr>\n",
       "  </thead>\n",
       "  <tbody>\n",
       "    <tr>\n",
       "      <th>0</th>\n",
       "      <td>Skip+BoT</td>\n",
       "      <td>0.289924</td>\n",
       "    </tr>\n",
       "    <tr>\n",
       "      <th>1</th>\n",
       "      <td>Skip+SiamlDL</td>\n",
       "      <td>0.292837</td>\n",
       "    </tr>\n",
       "  </tbody>\n",
       "</table>\n",
       "</div>"
      ],
      "text/plain": [
       "  $\\tau$ = 1000        AP\n",
       "         Method $\\eta$=20\n",
       "0      Skip+BoT  0.289924\n",
       "1  Skip+SiamlDL  0.292837"
      ]
     },
     "metadata": {},
     "output_type": "display_data"
    },
    {
     "data": {
      "text/html": [
       "<div>\n",
       "<style scoped>\n",
       "    .dataframe tbody tr th:only-of-type {\n",
       "        vertical-align: middle;\n",
       "    }\n",
       "\n",
       "    .dataframe tbody tr th {\n",
       "        vertical-align: top;\n",
       "    }\n",
       "\n",
       "    .dataframe thead tr th {\n",
       "        text-align: left;\n",
       "    }\n",
       "</style>\n",
       "<table border=\"1\" class=\"dataframe\">\n",
       "  <thead>\n",
       "    <tr>\n",
       "      <th></th>\n",
       "      <th>$\\tau$ = 1000</th>\n",
       "      <th>$F_{\\gamma=0.5}$ Score</th>\n",
       "      <th>$F_{\\gamma=1.0}$ Score</th>\n",
       "      <th>$F_{\\gamma=2.0}$ Score</th>\n",
       "    </tr>\n",
       "    <tr>\n",
       "      <th></th>\n",
       "      <th>Method</th>\n",
       "      <th>$\\eta$=20</th>\n",
       "      <th>$\\eta$=20</th>\n",
       "      <th>$\\eta$=20</th>\n",
       "    </tr>\n",
       "  </thead>\n",
       "  <tbody>\n",
       "    <tr>\n",
       "      <th>0</th>\n",
       "      <td>Skip+BoT</td>\n",
       "      <td>0.608108</td>\n",
       "      <td>0.448399</td>\n",
       "      <td>0.390071</td>\n",
       "    </tr>\n",
       "    <tr>\n",
       "      <th>1</th>\n",
       "      <td>Skip+SiamlDL</td>\n",
       "      <td>0.602637</td>\n",
       "      <td>0.437500</td>\n",
       "      <td>0.355781</td>\n",
       "    </tr>\n",
       "  </tbody>\n",
       "</table>\n",
       "</div>"
      ],
      "text/plain": [
       "  $\\tau$ = 1000 $F_{\\gamma=0.5}$ Score $F_{\\gamma=1.0}$ Score  \\\n",
       "         Method              $\\eta$=20              $\\eta$=20   \n",
       "0      Skip+BoT               0.608108               0.448399   \n",
       "1  Skip+SiamlDL               0.602637               0.437500   \n",
       "\n",
       "  $F_{\\gamma=2.0}$ Score  \n",
       "               $\\eta$=20  \n",
       "0               0.390071  \n",
       "1               0.355781  "
      ]
     },
     "metadata": {},
     "output_type": "display_data"
    },
    {
     "name": "stdout",
     "output_type": "stream",
     "text": [
      "Skip_max-tracklet-80\n",
      "-----------------------------------\n"
     ]
    },
    {
     "data": {
      "text/html": [
       "<div>\n",
       "<style scoped>\n",
       "    .dataframe tbody tr th:only-of-type {\n",
       "        vertical-align: middle;\n",
       "    }\n",
       "\n",
       "    .dataframe tbody tr th {\n",
       "        vertical-align: top;\n",
       "    }\n",
       "\n",
       "    .dataframe thead tr th {\n",
       "        text-align: left;\n",
       "    }\n",
       "</style>\n",
       "<table border=\"1\" class=\"dataframe\">\n",
       "  <thead>\n",
       "    <tr>\n",
       "      <th></th>\n",
       "      <th>$\\tau$ = 1000</th>\n",
       "      <th>AP</th>\n",
       "    </tr>\n",
       "    <tr>\n",
       "      <th></th>\n",
       "      <th>Method</th>\n",
       "      <th>$\\eta$=20</th>\n",
       "    </tr>\n",
       "  </thead>\n",
       "  <tbody>\n",
       "    <tr>\n",
       "      <th>0</th>\n",
       "      <td>Skip+BoT</td>\n",
       "      <td>0.289924</td>\n",
       "    </tr>\n",
       "    <tr>\n",
       "      <th>1</th>\n",
       "      <td>Skip+SiamlDL</td>\n",
       "      <td>0.292837</td>\n",
       "    </tr>\n",
       "  </tbody>\n",
       "</table>\n",
       "</div>"
      ],
      "text/plain": [
       "  $\\tau$ = 1000        AP\n",
       "         Method $\\eta$=20\n",
       "0      Skip+BoT  0.289924\n",
       "1  Skip+SiamlDL  0.292837"
      ]
     },
     "metadata": {},
     "output_type": "display_data"
    },
    {
     "data": {
      "text/html": [
       "<div>\n",
       "<style scoped>\n",
       "    .dataframe tbody tr th:only-of-type {\n",
       "        vertical-align: middle;\n",
       "    }\n",
       "\n",
       "    .dataframe tbody tr th {\n",
       "        vertical-align: top;\n",
       "    }\n",
       "\n",
       "    .dataframe thead tr th {\n",
       "        text-align: left;\n",
       "    }\n",
       "</style>\n",
       "<table border=\"1\" class=\"dataframe\">\n",
       "  <thead>\n",
       "    <tr>\n",
       "      <th></th>\n",
       "      <th>$\\tau$ = 1000</th>\n",
       "      <th>$F_{\\gamma=0.5}$ Score</th>\n",
       "      <th>$F_{\\gamma=1.0}$ Score</th>\n",
       "      <th>$F_{\\gamma=2.0}$ Score</th>\n",
       "    </tr>\n",
       "    <tr>\n",
       "      <th></th>\n",
       "      <th>Method</th>\n",
       "      <th>$\\eta$=20</th>\n",
       "      <th>$\\eta$=20</th>\n",
       "      <th>$\\eta$=20</th>\n",
       "    </tr>\n",
       "  </thead>\n",
       "  <tbody>\n",
       "    <tr>\n",
       "      <th>0</th>\n",
       "      <td>Skip+BoT</td>\n",
       "      <td>0.608108</td>\n",
       "      <td>0.448399</td>\n",
       "      <td>0.390071</td>\n",
       "    </tr>\n",
       "    <tr>\n",
       "      <th>1</th>\n",
       "      <td>Skip+SiamlDL</td>\n",
       "      <td>0.602637</td>\n",
       "      <td>0.437500</td>\n",
       "      <td>0.355781</td>\n",
       "    </tr>\n",
       "  </tbody>\n",
       "</table>\n",
       "</div>"
      ],
      "text/plain": [
       "  $\\tau$ = 1000 $F_{\\gamma=0.5}$ Score $F_{\\gamma=1.0}$ Score  \\\n",
       "         Method              $\\eta$=20              $\\eta$=20   \n",
       "0      Skip+BoT               0.608108               0.448399   \n",
       "1  Skip+SiamlDL               0.602637               0.437500   \n",
       "\n",
       "  $F_{\\gamma=2.0}$ Score  \n",
       "               $\\eta$=20  \n",
       "0               0.390071  \n",
       "1               0.355781  "
      ]
     },
     "metadata": {},
     "output_type": "display_data"
    }
   ],
   "source": [
    "max_tracklets = [1,5,10,20,40,80]\n",
    "\n",
    "for i in max_tracklets:\n",
    "    new_path_skip = os.path.join(path_skip,\"Skip_max-tracklet-{}\".format(i))\n",
    "    \n",
    "    prefix_reid = \"BoT\"\n",
    "    df_outcome_otherCam_skip_BoT = pd.read_csv(os.path.join(new_path_skip, 'Skip_{}_gather-df-outcomes_otherCam.csv'.format(prefix_reid)))\n",
    "\n",
    "    prefix_reid = \"SiamIDL\"\n",
    "    df_outcome_otherCam_skip_SiamIDL = pd.read_csv(os.path.join(new_path_skip, 'Skip_{}_gather-df-outcomes_otherCam.csv'.format(prefix_reid)))\n",
    "    \n",
    "    list_dfs = [df_resultGUI_otherCam_skip_BoT,\n",
    "                df_resultGUI_otherCam_skip_SiamIDL, \n",
    "               ]\n",
    "\n",
    "    print(\"Skip_max-tracklet-{}\".format(i))\n",
    "    print(\"-----------------------------------\")\n",
    "    display(AP_calculate(list_dfs))\n",
    "    display(FScore_calculate(list_dfs))"
   ]
  },
  {
   "cell_type": "code",
   "execution_count": null,
   "metadata": {},
   "outputs": [],
   "source": []
  },
  {
   "cell_type": "code",
   "execution_count": null,
   "metadata": {},
   "outputs": [],
   "source": []
  },
  {
   "cell_type": "code",
   "execution_count": null,
   "metadata": {},
   "outputs": [],
   "source": []
  },
  {
   "cell_type": "code",
   "execution_count": null,
   "metadata": {},
   "outputs": [],
   "source": []
  },
  {
   "cell_type": "code",
   "execution_count": null,
   "metadata": {},
   "outputs": [],
   "source": []
  },
  {
   "cell_type": "code",
   "execution_count": null,
   "metadata": {},
   "outputs": [],
   "source": []
  },
  {
   "cell_type": "markdown",
   "metadata": {},
   "source": [
    "# plot AP"
   ]
  },
  {
   "cell_type": "code",
   "execution_count": 75,
   "metadata": {
    "scrolled": true
   },
   "outputs": [
    {
     "name": "stdout",
     "output_type": "stream",
     "text": [
      "Area Under Curve: 0.29\n"
     ]
    },
    {
     "data": {
      "image/png": "[encoded data removed]",
      "text/plain": [
       "<Figure size 800x800 with 1 Axes>"
      ]
     },
     "metadata": {},
     "output_type": "display_data"
    }
   ],
   "source": [
    "import random\n",
    "import matplotlib.pyplot as plt\n",
    "\n",
    "from sklearn import svm, datasets\n",
    "from sklearn.metrics import precision_recall_curve\n",
    "from sklearn.metrics import auc\n",
    "\n",
    "recall    = FR_eta_20_tau_1000_skip_BoT[::-1]\n",
    "precision = TVR_eta_20_tau_1000_skip_BoT[::-1]\n",
    "\n",
    "\n",
    "area = 0\n",
    "# area = auc(precision,recall)\n",
    "[area, mpre, mrec, ii] = CalculateAveragePrecision(recall,precision)\n",
    "# [area, _, _, _] = CalculateAveragePrecision(recall,precision)\n",
    "print(\"Area Under Curve: %0.2f\" % area)\n",
    "\n",
    "\n",
    "\n",
    "\n",
    "plt.figure(figsize=(8,8))\n",
    "plt.plot(recall, precision, 'ro', label='x1')\n",
    "plt.plot(recall, precision, label='x2', drawstyle='steps')\n",
    "plt.step(mrec,   mpre, '--', label='x3')\n",
    "plt.plot(mrec,   mpre, 'bo', label='x4')\n",
    "\n",
    "plt.fill_between(mrec,   mpre, step=\"pre\", alpha=0.4)\n",
    "\n",
    "\n",
    "# plt.plot([0, 1], [0, 1], color='navy', lw=1, linestyle='--')\n",
    "\n",
    "for i, _ in enumerate(recall):\n",
    "    plt.annotate(i, (recall[i], precision[i]))\n",
    "\n",
    "plt.xlabel('recall')\n",
    "plt.ylabel('precision')\n",
    "\n",
    "plt.xlim([0, 1])\n",
    "plt.ylim([0, 1])\n",
    "\n",
    "plt.title('ROC_curve example: AUC=%0.2f' % area)\n",
    "plt.legend(loc=\"lower left\")\n",
    "plt.show()"
   ]
  },
  {
   "cell_type": "code",
   "execution_count": null,
   "metadata": {},
   "outputs": [],
   "source": []
  },
  {
   "cell_type": "code",
   "execution_count": null,
   "metadata": {},
   "outputs": [],
   "source": []
  },
  {
   "cell_type": "code",
   "execution_count": null,
   "metadata": {},
   "outputs": [],
   "source": []
  },
  {
   "cell_type": "markdown",
   "metadata": {},
   "source": [
    "# Test FPR vs TPR"
   ]
  },
  {
   "cell_type": "code",
   "execution_count": 76,
   "metadata": {},
   "outputs": [],
   "source": [
    "def FPR(dictTypes):\n",
    "    if isinstance(dictTypes,dict) is False:\n",
    "        raise Exception('dictTypes is not a dictionary')\n",
    "    # FPR =  ( TMC + FC )  / ( TMC + FC +  TS )\n",
    "    tmc = dictTypes.get('TrueMissedCall') if dictTypes.get('TrueMissedCall') else 0\n",
    "    fc  = dictTypes.get('FalseCall')      if dictTypes.get('FalseCall')      else 0\n",
    "    ts  = dictTypes.get('TrueSilence')    if dictTypes.get('TrueSilence')    else 0\n",
    "    \n",
    "    if (tmc + fc + ts)==0:\n",
    "        return 0\n",
    "#     return  (tmc + fc) / (tmc + fc + ts)\n",
    "#     print(\"tmc + fc + ts :\", tmc, fc, ts, \"->>: \", tmc + fc + ts)\n",
    "#     print(\"result FPR: \", (fc) / (tmc + fc + ts))\n",
    "    return  (fc) / (fc + tmc + ts)\n",
    "\n",
    "def TPR(dictTypes):\n",
    "    if isinstance(dictTypes,dict) is False:\n",
    "        raise Exception('dictTypes is not a dictionary')\n",
    "    # TPR =  ( TC )  / ( TC + TMC +  FS )\n",
    "    tmc = dictTypes.get('TrueMissedCall') if dictTypes.get('TrueMissedCall') else 0\n",
    "    tc  = dictTypes.get('TrueCall')       if dictTypes.get('TrueCall')       else 0\n",
    "    fs  = dictTypes.get('FalseSilence')   if dictTypes.get('FalseSilence')   else 0\n",
    "    if (tmc + tc + fs)==0:\n",
    "        return 0\n",
    "#     print(\"tc + tmc + fs :\", tc, tmc, fs, \"->>: \", tmc + tc + fs)\n",
    "#     print(\"result TPR: \", (tc) / (tc + tmc + fs))\n",
    "    return  (tc) / (tc + tmc + fs)\n"
   ]
  },
  {
   "cell_type": "code",
   "execution_count": 77,
   "metadata": {},
   "outputs": [],
   "source": [
    "def ROC_curve(df, thrs_list, eta, tau):\n",
    "    result_FPR = list() \n",
    "    result_TPR = list() \n",
    "    for thr in thrs_list:\n",
    "        tmp_df     = None\n",
    "        tmp_dict   = None\n",
    "        tmp_df   = request_data(df, thr, eta, tau)\n",
    "#         print(\"tmp_df: \",tmp_df)\n",
    "\n",
    "        tmp_dict = tmp_df['type'].value_counts().to_dict()\n",
    "\n",
    "#         print(\"tmp_dict: \",tmp_dict)\n",
    "#         print(\"thr: \", thr)\n",
    "#         print(\"FPR: \", FPR(tmp_dict))\n",
    "#         print(\"TPR: \", TPR(tmp_dict))\n",
    "        result_FPR.append( FPR(tmp_dict) )\n",
    "        result_TPR.append( TPR(tmp_dict) )   \n",
    "    return result_FPR, result_TPR"
   ]
  },
  {
   "cell_type": "code",
   "execution_count": 78,
   "metadata": {},
   "outputs": [],
   "source": [
    "FPR_eta_20_tau_1000, TPR_eta_20_tau_1000 = ROC_curve(df_resultGUI_otherCam_skip_BoT, thrs_list , eta=20, tau=1000 )\n"
   ]
  },
  {
   "cell_type": "code",
   "execution_count": null,
   "metadata": {},
   "outputs": [],
   "source": []
  },
  {
   "cell_type": "code",
   "execution_count": 79,
   "metadata": {
    "scrolled": true
   },
   "outputs": [
    {
     "name": "stdout",
     "output_type": "stream",
     "text": [
      "Area Under Curve: 0.00\n"
     ]
    },
    {
     "data": {
      "image/png": "[encoded data removed]",
      "text/plain": [
       "<Figure size 640x480 with 1 Axes>"
      ]
     },
     "metadata": {},
     "output_type": "display_data"
    }
   ],
   "source": [
    "import random\n",
    "import pylab as pl\n",
    "from sklearn import svm, datasets\n",
    "from sklearn.metrics import precision_recall_curve\n",
    "from sklearn.metrics import auc\n",
    "\n",
    "FPR, TPR = ROC_curve(df_resultGUI_otherCam_skip_BoT, thrs_list , eta=20, tau=1000 )\n",
    "\n",
    "area = 0\n",
    "# area = auc(FPR, TPR)\n",
    "# area = auc(precision,recall)\n",
    "print(\"Area Under Curve: %0.2f\" % area)\n",
    "\n",
    "pl.clf()\n",
    "pl.plot(FPR, TPR, 'ro', label='curve')\n",
    "pl.plot(FPR, TPR, label='curve')\n",
    "# pl.step(recall, precision, where='post', label='step')\n",
    "plt.plot([0, 1], [0, 1], color='navy', lw=1, linestyle='--')\n",
    "\n",
    "pl.xlabel('FPR')\n",
    "pl.ylabel('TPR')\n",
    "# pl.ylim([0.0, 1.05])\n",
    "# pl.xlim([0.0, 1.0])\n",
    "pl.title('ROC_curve example: AUC=%0.2f' % area)\n",
    "pl.legend(loc=\"lower left\")\n",
    "pl.show()"
   ]
  },
  {
   "cell_type": "code",
   "execution_count": null,
   "metadata": {},
   "outputs": [],
   "source": []
  },
  {
   "cell_type": "code",
   "execution_count": null,
   "metadata": {},
   "outputs": [],
   "source": []
  },
  {
   "cell_type": "code",
   "execution_count": null,
   "metadata": {},
   "outputs": [],
   "source": []
  }
 ],
 "metadata": {
  "kernelspec": {
   "display_name": "Python 3 (ipykernel)",
   "language": "python",
   "name": "python3"
  },
  "language_info": {
   "codemirror_mode": {
    "name": "ipython",
    "version": 3
   },
   "file_extension": ".py",
   "mimetype": "text/x-python",
   "name": "python",
   "nbconvert_exporter": "python",
   "pygments_lexer": "ipython3",
   "version": "3.7.12"
  }
 },
 "nbformat": 4,
 "nbformat_minor": 4
}
