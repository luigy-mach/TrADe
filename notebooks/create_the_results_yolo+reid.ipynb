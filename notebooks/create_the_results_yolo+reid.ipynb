{
 "cells": [
  {
   "cell_type": "code",
   "execution_count": 1,
   "metadata": {},
   "outputs": [],
   "source": [
    "import numpy  as np\n",
    "import pandas as pd\n",
    "import fnmatch\n",
    "import os\n",
    "import re\n",
    "\n",
    "import numpy  as np\n",
    "import matplotlib.pyplot as plt\n",
    "from os.path import splitext as ossplitext\n"
   ]
  },
  {
   "cell_type": "code",
   "execution_count": 2,
   "metadata": {},
   "outputs": [],
   "source": [
    "def find_files(path_main, pattern, type='separate'):\n",
    "\n",
    "    list_return = list()\n",
    "    for dirpath, dirs, files in os.walk(path_main):\n",
    "        for fname in fnmatch.filter(files, pattern):\n",
    "            list_return.append((dirpath,fname))\n",
    "\n",
    "    if type == 'separate':\n",
    "        list_return = np.asarray(list_return)\n",
    "        df \t\t\t= pd.DataFrame(list_return, columns = ['path','file'])\n",
    "        df \t\t\t= df.sort_values(by=['path'], ascending=True)\n",
    "        return df.to_numpy()\n",
    "\n",
    "    if type == 'absolute':\n",
    "        new_list = list()\n",
    "        for i,j in list_return:\n",
    "            new_list.append(os.path.join(i,j))\n",
    "        new_list = sorted(new_list )\n",
    "        return np.asarray(new_list)\n",
    "    else:\n",
    "        print('error, you need choise type: [separate,absolute]')\n",
    "        return None"
   ]
  },
  {
   "cell_type": "code",
   "execution_count": 3,
   "metadata": {},
   "outputs": [],
   "source": [
    "\n",
    "def build_dataframe(files):\n",
    "    cols = ['queryAbsPath','qId','qIsPesentGT','beta','eta','tau','highSimilarity','qIsIn_eta','type']\n",
    "    main_df = pd.DataFrame(columns=cols)\n",
    "\n",
    "    for i in files:\n",
    "        df = pd.read_csv(i, usecols=cols)\n",
    "        if df.shape[0]>0:\n",
    "            main_df = main_df.append(df, ignore_index=True)\n",
    "    \n",
    "    return main_df"
   ]
  },
  {
   "cell_type": "code",
   "execution_count": 4,
   "metadata": {},
   "outputs": [],
   "source": [
    "\n",
    "def build_outcome_dataframe(files):\n",
    "#     cols = ['imgAbsPath','cosine_similarity']\n",
    "    cols = ['imgAbsPath_origin','imgAbsPath_current','cosine_similarity']\n",
    "    main_df = pd.DataFrame(columns=cols)\n",
    "\n",
    "    for i in files:\n",
    "        df = pd.read_csv(i, usecols=cols)\n",
    "        if df.shape[0]>0:\n",
    "            main_df = main_df.append(df, ignore_index=True)\n",
    "    return main_df"
   ]
  },
  {
   "cell_type": "code",
   "execution_count": 5,
   "metadata": {},
   "outputs": [],
   "source": [
    "def create_dir(path):\n",
    "    try:\n",
    "        os.makedirs(path, exist_ok=True)\n",
    "        # print('{} created successfully'.format(path))\n",
    "        return path\n",
    "    except:\n",
    "        print('{} cant be created')\n",
    "    return None"
   ]
  },
  {
   "cell_type": "code",
   "execution_count": 6,
   "metadata": {},
   "outputs": [
    {
     "data": {
      "text/plain": [
       "(0, 3)"
      ]
     },
     "execution_count": 6,
     "metadata": {},
     "output_type": "execute_result"
    }
   ],
   "source": [
    "xcols = ['imgAbsPath_origin','imgAbsPath_current','cosine_similarity']\n",
    "xmain_df = pd.DataFrame(columns=xcols)\n",
    "xmain_df.shape"
   ]
  },
  {
   "cell_type": "code",
   "execution_count": null,
   "metadata": {},
   "outputs": [],
   "source": []
  },
  {
   "cell_type": "code",
   "execution_count": null,
   "metadata": {},
   "outputs": [],
   "source": []
  },
  {
   "cell_type": "markdown",
   "metadata": {},
   "source": [
    "# PATHs"
   ]
  },
  {
   "cell_type": "code",
   "execution_count": 19,
   "metadata": {},
   "outputs": [],
   "source": [
    "path_main   = './../dataset_prid2011/1_yolov3_reid_every_80_frames'\n",
    "path_save   = './results/1_yolov3_reid_every_80_frames'"
   ]
  },
  {
   "cell_type": "code",
   "execution_count": 20,
   "metadata": {},
   "outputs": [
    {
     "data": {
      "text/plain": [
       "'./results/2_trade_reid'"
      ]
     },
     "execution_count": 20,
     "metadata": {},
     "output_type": "execute_result"
    }
   ],
   "source": [
    "create_dir(path_save)"
   ]
  },
  {
   "cell_type": "code",
   "execution_count": 9,
   "metadata": {},
   "outputs": [],
   "source": [
    "def gather_outcome_dataframes(path_main, path_save, prefix_reid, thisCam=False, otherCam=True):\n",
    "    if thisCam:\n",
    "        outcomefilesThisCam  = find_files(path_main, '{}_outcome_thisCam_person_*_dataframe.csv'.format(prefix_reid), type='absolute')\n",
    "        df_outcome_thisCam   = build_outcome_dataframe(outcomefilesThisCam)\n",
    "        print(\"df_outcome_thisCam shape: \",df_outcome_thisCam.shape)\n",
    "        df_outcome_thisCam.to_csv(os.path.join(path_save,'skip_gather_df_outcomes_thisCam_{}.csv'.format(prefix_reid)), index=False, header=True)\n",
    "    if otherCam:\n",
    "        outcomefilesOtherCam = find_files(path_main, '{}_outcome_otherCam_person_*_dataframe.csv'.format(prefix_reid), type='absolute')\n",
    "        df_outcome_otherCam  = build_outcome_dataframe(outcomefilesOtherCam)\n",
    "        print(\"df_outcome_otherCam shape: \",df_outcome_otherCam.shape)\n",
    "        df_outcome_otherCam.to_csv(os.path.join(path_save,'skip_gather_df_outcomes_otherCam_{}.csv'.format(prefix_reid)), index=False, header=True)\n"
   ]
  },
  {
   "cell_type": "markdown",
   "metadata": {},
   "source": [
    "# READ  and GATHER of Outcomes Re-id."
   ]
  },
  {
   "cell_type": "code",
   "execution_count": 10,
   "metadata": {},
   "outputs": [],
   "source": [
    "prefix_reid = 'SiamIDL'"
   ]
  },
  {
   "cell_type": "code",
   "execution_count": 11,
   "metadata": {},
   "outputs": [
    {
     "name": "stdout",
     "output_type": "stream",
     "text": [
      "df_outcome_thisCam shape:  (2011, 3)\n",
      "df_outcome_otherCam shape:  (2011, 3)\n"
     ]
    }
   ],
   "source": [
    "gather_outcome_dataframes(path_main, path_save, prefix_reid, thisCam=True, otherCam=True)"
   ]
  },
  {
   "cell_type": "code",
   "execution_count": 12,
   "metadata": {},
   "outputs": [],
   "source": [
    "prefix_reid = 'BoT'"
   ]
  },
  {
   "cell_type": "code",
   "execution_count": 13,
   "metadata": {},
   "outputs": [
    {
     "name": "stdout",
     "output_type": "stream",
     "text": [
      "df_outcome_thisCam shape:  (2011, 3)\n",
      "df_outcome_otherCam shape:  (2011, 3)\n"
     ]
    }
   ],
   "source": [
    "gather_outcome_dataframes(path_main, path_save, prefix_reid, thisCam=True, otherCam=True)"
   ]
  },
  {
   "cell_type": "code",
   "execution_count": null,
   "metadata": {},
   "outputs": [],
   "source": []
  },
  {
   "cell_type": "markdown",
   "metadata": {},
   "source": [
    "# READ and GATHER of resultGUI"
   ]
  },
  {
   "cell_type": "code",
   "execution_count": 14,
   "metadata": {},
   "outputs": [],
   "source": [
    "def gather_resultsGUI(path_main, path_save, prefix_reid, thisCam=False, otherCam=True):\n",
    "    if thisCam:\n",
    "        filesOtherCam = find_files(path_main, '{}_resultGUI_otherCam_person_*_seqVideo_*.csv'.format(prefix_reid), type='absolute')\n",
    "        df_otherCam = build_dataframe(filesOtherCam)\n",
    "        print(df_otherCam.shape)\n",
    "        df_otherCam.to_csv(os.path.join(path_save,'skip_gather_df_resultGUI_otherCam_{}.csv'.format(prefix_reid)), index=False, header=True)\n",
    "\n",
    "    if otherCam:\n",
    "        filesThisCam  = find_files(path_main, '{}_resultGUI_thisCam_person_*_seqVideo_*.csv'.format(prefix_reid), type='absolute')\n",
    "        df_thisCam = build_dataframe(filesThisCam)\n",
    "        print(df_thisCam.shape)\n",
    "        df_thisCam.to_csv(os.path.join(path_save,'skip_gather_df_resultGUI_thisCam_{}.csv'.format(prefix_reid)), index=False, header=True)\n"
   ]
  },
  {
   "cell_type": "code",
   "execution_count": 15,
   "metadata": {},
   "outputs": [],
   "source": [
    "prefix_reid = 'SiamIDL'"
   ]
  },
  {
   "cell_type": "code",
   "execution_count": 16,
   "metadata": {},
   "outputs": [
    {
     "name": "stdout",
     "output_type": "stream",
     "text": [
      "(8760, 9)\n",
      "(8760, 9)\n"
     ]
    }
   ],
   "source": [
    "gather_resultsGUI(path_main, path_save, prefix_reid, thisCam=True, otherCam=True)"
   ]
  },
  {
   "cell_type": "code",
   "execution_count": null,
   "metadata": {},
   "outputs": [],
   "source": []
  },
  {
   "cell_type": "code",
   "execution_count": 17,
   "metadata": {},
   "outputs": [],
   "source": [
    "prefix_reid = 'BoT'"
   ]
  },
  {
   "cell_type": "code",
   "execution_count": 18,
   "metadata": {},
   "outputs": [
    {
     "name": "stdout",
     "output_type": "stream",
     "text": [
      "(8760, 9)\n",
      "(8760, 9)\n"
     ]
    }
   ],
   "source": [
    "gather_resultsGUI(path_main, path_save, prefix_reid, thisCam=True, otherCam=True)\n"
   ]
  },
  {
   "cell_type": "code",
   "execution_count": null,
   "metadata": {},
   "outputs": [],
   "source": []
  },
  {
   "cell_type": "code",
   "execution_count": null,
   "metadata": {},
   "outputs": [],
   "source": []
  }
 ],
 "metadata": {
  "kernelspec": {
   "display_name": "Python 3 (ipykernel)",
   "language": "python",
   "name": "python3"
  },
  "language_info": {
   "codemirror_mode": {
    "name": "ipython",
    "version": 3
   },
   "file_extension": ".py",
   "mimetype": "text/x-python",
   "name": "python",
   "nbconvert_exporter": "python",
   "pygments_lexer": "ipython3",
   "version": "3.7.12"
  }
 },
 "nbformat": 4,
 "nbformat_minor": 4
}
